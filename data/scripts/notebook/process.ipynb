{
 "cells": [
  {
   "cell_type": "code",
   "execution_count": 2,
   "metadata": {},
   "outputs": [],
   "source": [
    "import pandas as pd\n",
    "import os\n",
    "import re\n",
    "import glob\n",
    "import tiktoken\n",
    "import openai\n",
    "from openai import OpenAI\n",
    "from scipy.spatial.distance import cosine\n",
    "import os"
   ]
  },
  {
   "cell_type": "code",
   "execution_count": 6,
   "metadata": {},
   "outputs": [],
   "source": [
    "# API Key 입력. 만일 환경변수에 없으면, 프롬프트로 입력받음.\n",
    "from dotenv import load_dotenv, find_dotenv\n",
    "load_dotenv(find_dotenv('data/practice/.env'))\n",
    "client = OpenAI()\n",
    "openai_api_key = os.getenv(\"OPENAI_API_KEY\")\n",
    "if openai_api_key is True:\n",
    "    openai_api_key = input(\"OpenAI API Key 입력: \")\n",
    "    os.environ[\"OPENAI_API_KEY\"] = openai_api_key\n",
    "openai.api_key = os.environ[\"OPENAI_API_KEY\"]"
   ]
  },
  {
   "cell_type": "code",
   "execution_count": 4,
   "metadata": {},
   "outputs": [],
   "source": [
    "# markdown 파일을 읽어오는 함수\n",
    "def get_md_files(directory):\n",
    "    md_files = glob.glob(os.path.join(directory, \"**/*.md\"), recursive=True)\n",
    "    return md_files\n",
    "\n",
    "# 읽어온 markdown 파일을 전처리하는 함수\n",
    "def process_file_content(file_path):\n",
    "    # Read and process the file content\n",
    "    with open(file_path, 'r', encoding='utf-8') as file:\n",
    "        content = file.read()\n",
    "        # Replace new lines, URLs, and tags\n",
    "        content = content.replace('\\n', ' ').replace('\\r', ' ')\n",
    "        content = re.sub(r'http\\S+', '', content)  # Remove URLs\n",
    "        content = re.sub(r'\\{\\/\\*.*?\\*\\/\\}', '', content)  # Remove {/*text*/}\n",
    "        content = content.replace('---', '')\n",
    "        return content"
   ]
  },
  {
   "cell_type": "markdown",
   "metadata": {},
   "source": [
    "----"
   ]
  },
  {
   "cell_type": "code",
   "execution_count": 5,
   "metadata": {},
   "outputs": [],
   "source": [
    "directory = '../../raw'\n",
    "md_files = get_md_files(directory)\n",
    "data = []\n",
    "for file_path in md_files:\n",
    "    title = os.path.basename(file_path).replace('.md', '')\n",
    "    content = process_file_content(file_path)\n",
    "    data.append({'title': title, 'content': content})\n",
    "df = pd.DataFrame(data, columns=['title', 'content'])\n"
   ]
  },
  {
   "cell_type": "markdown",
   "metadata": {},
   "source": [
    "##  여기서부터 시작!!!!!!!!!!!\n",
    "### 여기서부터 df=pd.read_csv(\"파일이름.csv\") 로 내가 만든 데이터를 불러오기. 파일 열의 형식은 `title`, `content`이어야 한다."
   ]
  },
  {
   "cell_type": "code",
   "execution_count": 118,
   "metadata": {},
   "outputs": [
    {
     "data": {
      "text/plain": [
       "<AxesSubplot: >"
      ]
     },
     "execution_count": 118,
     "metadata": {},
     "output_type": "execute_result"
    },
    {
     "data": {
      "image/png": "[encoded data removed]",
      "text/plain": [
       "<Figure size 640x480 with 1 Axes>"
      ]
     },
     "metadata": {},
     "output_type": "display_data"
    }
   ],
   "source": [
    "tokenizer = tiktoken.get_encoding(\"cl100k_base\")\n",
    "df['n_tokens'] = df['content'].apply(lambda x: len(tokenizer.encode(x)))\n",
    "df.n_tokens.hist()"
   ]
  },
  {
   "cell_type": "code",
   "execution_count": 119,
   "metadata": {},
   "outputs": [],
   "source": [
    "max_tokens = 2000\n",
    "def split_into_many(text, max_tokens = max_tokens):\n",
    "\n",
    "    # 일단 문장으로 쪼개기\n",
    "    sentences = text.split('. ')\n",
    "\n",
    "    # 문장마다 몇 토큰 들어가는지 세어 주기.\n",
    "    n_tokens = [len(tokenizer.encode(\" \" + sentence)) for sentence in sentences]\n",
    "    \n",
    "    chunks = []\n",
    "    tokens_so_far = 0\n",
    "    chunk = []\n",
    "\n",
    "\n",
    "    for sentence, token in zip(sentences, n_tokens):\n",
    "\n",
    "        # 문장의 토큰 수와 현재까지의 토큰 수의 합이 최대 토큰 수를 초과하면, 해당 청크를 청크 목록에 추가하고 청크 및 현재까지의 토큰 수를 초기화한다.\n",
    "        if tokens_so_far + token > max_tokens:\n",
    "            chunks.append(\". \".join(chunk) + \".\")\n",
    "            chunk = []\n",
    "            tokens_so_far = 0\n",
    "\n",
    "        if token > max_tokens:\n",
    "            continue\n",
    "\n",
    "        chunk.append(sentence)\n",
    "        tokens_so_far += token + 1\n",
    "\n",
    "    if chunk:\n",
    "        chunks.append(\". \".join(chunk) + \".\")\n",
    "\n",
    "    return chunks"
   ]
  },
  {
   "cell_type": "code",
   "execution_count": 120,
   "metadata": {},
   "outputs": [],
   "source": [
    "shortened = []\n",
    "# 데이터 프레임 순회하기\n",
    "for row in df.iterrows():\n",
    "\n",
    "    # If the content is None, go to the next row\n",
    "    if row[1]['content'] is None:\n",
    "        continue\n",
    "\n",
    "    # If the number of tokens is greater than the max number of tokens, split the content into chunks\n",
    "    if row[1]['n_tokens'] > max_tokens:\n",
    "        shortened += split_into_many(row[1]['content'])\n",
    "    \n",
    "    # Otherwise, add the content to the list of shortened texts\n",
    "    else:\n",
    "        shortened.append( row[1]['content'] )"
   ]
  },
  {
   "cell_type": "code",
   "execution_count": 121,
   "metadata": {},
   "outputs": [],
   "source": [
    "def split_large_text(large_text, max_tokens=2000):\n",
    "    enc = tiktoken.get_encoding(\"cl100k_base\")\n",
    "    tokenized_text = enc.encode(large_text)\n",
    "\n",
    "    chunks = []\n",
    "    current_chunk = []\n",
    "    current_length = 0\n",
    "\n",
    "    for token in tokenized_text:\n",
    "        current_chunk.append(token)\n",
    "        current_length += 1\n",
    "\n",
    "        if current_length >= max_tokens:\n",
    "            chunks.append(enc.decode(current_chunk).rstrip(' .,;'))\n",
    "            current_chunk = []\n",
    "            current_length = 0\n",
    "\n",
    "    if current_chunk:\n",
    "        chunks.append(enc.decode(current_chunk).rstrip(' .,;'))\n",
    "\n",
    "    return chunks\n",
    "\n",
    "df['splitted_content'] = df['content'].apply(split_large_text)\n",
    "df = df.explode(\"splitted_content\")\n",
    "df['spllitted_n_tokens'] = df['splitted_content'].apply(lambda x: len(tokenizer.encode(x)))\n",
    "df = df.reset_index( drop=True)"
   ]
  },
  {
   "cell_type": "code",
   "execution_count": 122,
   "metadata": {},
   "outputs": [],
   "source": [
    "df = df[['title','splitted_content', 'spllitted_n_tokens']].rename(columns={'splitted_content':'content', 'spllitted_n_tokens':'n_tokens'})"
   ]
  },
  {
   "cell_type": "code",
   "execution_count": 125,
   "metadata": {},
   "outputs": [],
   "source": [
    "def combine_info(row):\n",
    "    title = \" \".join(row['title'].split(\"-\"))\n",
    "\n",
    "    \n",
    "    combined = [f\"title: {title}\", f\"content: \\n{content}\"]\n",
    "    combined = \"\\n\\n###\\n\\n\".join(combined)\n",
    "    \n",
    "    return combined\n",
    "\n",
    "df[\"combined\"] = df.apply(combine_info, axis=1)"
   ]
  },
  {
   "cell_type": "code",
   "execution_count": 126,
   "metadata": {},
   "outputs": [
    {
     "data": {
      "text/html": [
       "<div>\n",
       "<style scoped>\n",
       "    .dataframe tbody tr th:only-of-type {\n",
       "        vertical-align: middle;\n",
       "    }\n",
       "\n",
       "    .dataframe tbody tr th {\n",
       "        vertical-align: top;\n",
       "    }\n",
       "\n",
       "    .dataframe thead th {\n",
       "        text-align: right;\n",
       "    }\n",
       "</style>\n",
       "<table border=\"1\" class=\"dataframe\">\n",
       "  <thead>\n",
       "    <tr style=\"text-align: right;\">\n",
       "      <th></th>\n",
       "      <th>title</th>\n",
       "      <th>content</th>\n",
       "      <th>n_tokens</th>\n",
       "      <th>combined</th>\n",
       "    </tr>\n",
       "  </thead>\n",
       "  <tbody>\n",
       "    <tr>\n",
       "      <th>0</th>\n",
       "      <td>index</td>\n",
       "      <td>id: home title: React permalink: index.html</td>\n",
       "      <td>10</td>\n",
       "      <td>title: index\\n\\n###\\n\\ncontent: \\n title: crea...</td>\n",
       "    </tr>\n",
       "    <tr>\n",
       "      <th>1</th>\n",
       "      <td>updating-objects-in-state</td>\n",
       "      <td>title: Updating Objects in State   &lt;Intro&gt;  S...</td>\n",
       "      <td>2000</td>\n",
       "      <td>title: updating objects in state\\n\\n###\\n\\ncon...</td>\n",
       "    </tr>\n",
       "    <tr>\n",
       "      <th>2</th>\n",
       "      <td>updating-objects-in-state</td>\n",
       "      <td>hepworth@sculpture.com'   });    function hand...</td>\n",
       "      <td>2000</td>\n",
       "      <td>title: updating objects in state\\n\\n###\\n\\ncon...</td>\n",
       "    </tr>\n",
       "    <tr>\n",
       "      <th>3</th>\n",
       "      <td>updating-objects-in-state</td>\n",
       "      <td>To try Immer:  1. Run `npm install use-immer...</td>\n",
       "      <td>2000</td>\n",
       "      <td>title: updating objects in state\\n\\n###\\n\\ncon...</td>\n",
       "    </tr>\n",
       "    <tr>\n",
       "      <th>4</th>\n",
       "      <td>updating-objects-in-state</td>\n",
       "      <td>copy the existing `...player` fields into the...</td>\n",
       "      <td>2000</td>\n",
       "      <td>title: updating objects in state\\n\\n###\\n\\ncon...</td>\n",
       "    </tr>\n",
       "    <tr>\n",
       "      <th>...</th>\n",
       "      <td>...</td>\n",
       "      <td>...</td>\n",
       "      <td>...</td>\n",
       "      <td>...</td>\n",
       "    </tr>\n",
       "    <tr>\n",
       "      <th>379</th>\n",
       "      <td>useDebugValue</td>\n",
       "      <td>title: useDebugValue   &lt;Intro&gt;  `useDebugValu...</td>\n",
       "      <td>891</td>\n",
       "      <td>title: useDebugValue\\n\\n###\\n\\ncontent: \\n tit...</td>\n",
       "    </tr>\n",
       "    <tr>\n",
       "      <th>380</th>\n",
       "      <td>memo</td>\n",
       "      <td>title: memo   &lt;Intro&gt;  `memo` lets you skip r...</td>\n",
       "      <td>2000</td>\n",
       "      <td>title: memo\\n\\n###\\n\\ncontent: \\n title: creat...</td>\n",
       "    </tr>\n",
       "    <tr>\n",
       "      <th>381</th>\n",
       "      <td>memo</td>\n",
       "      <td>;   margin-bottom: 16px; } ```  &lt;/Sandpack&gt;  I...</td>\n",
       "      <td>1432</td>\n",
       "      <td>title: memo\\n\\n###\\n\\ncontent: \\n title: creat...</td>\n",
       "    </tr>\n",
       "    <tr>\n",
       "      <th>382</th>\n",
       "      <td>createFactory</td>\n",
       "      <td>title: createFactory   &lt;Deprecated&gt;  This API...</td>\n",
       "      <td>1236</td>\n",
       "      <td>title: createFactory\\n\\n###\\n\\ncontent: \\n tit...</td>\n",
       "    </tr>\n",
       "    <tr>\n",
       "      <th>383</th>\n",
       "      <td>createElement</td>\n",
       "      <td>title: createElement   &lt;Intro&gt;  `createElemen...</td>\n",
       "      <td>1796</td>\n",
       "      <td>title: createElement\\n\\n###\\n\\ncontent: \\n tit...</td>\n",
       "    </tr>\n",
       "  </tbody>\n",
       "</table>\n",
       "<p>384 rows × 4 columns</p>\n",
       "</div>"
      ],
      "text/plain": [
       "                         title  \\\n",
       "0                        index   \n",
       "1    updating-objects-in-state   \n",
       "2    updating-objects-in-state   \n",
       "3    updating-objects-in-state   \n",
       "4    updating-objects-in-state   \n",
       "..                         ...   \n",
       "379              useDebugValue   \n",
       "380                       memo   \n",
       "381                       memo   \n",
       "382              createFactory   \n",
       "383              createElement   \n",
       "\n",
       "                                               content  n_tokens  \\\n",
       "0          id: home title: React permalink: index.html        10   \n",
       "1     title: Updating Objects in State   <Intro>  S...      2000   \n",
       "2    hepworth@sculpture.com'   });    function hand...      2000   \n",
       "3      To try Immer:  1. Run `npm install use-immer...      2000   \n",
       "4     copy the existing `...player` fields into the...      2000   \n",
       "..                                                 ...       ...   \n",
       "379   title: useDebugValue   <Intro>  `useDebugValu...       891   \n",
       "380   title: memo   <Intro>  `memo` lets you skip r...      2000   \n",
       "381  ;   margin-bottom: 16px; } ```  </Sandpack>  I...      1432   \n",
       "382   title: createFactory   <Deprecated>  This API...      1236   \n",
       "383   title: createElement   <Intro>  `createElemen...      1796   \n",
       "\n",
       "                                              combined  \n",
       "0    title: index\\n\\n###\\n\\ncontent: \\n title: crea...  \n",
       "1    title: updating objects in state\\n\\n###\\n\\ncon...  \n",
       "2    title: updating objects in state\\n\\n###\\n\\ncon...  \n",
       "3    title: updating objects in state\\n\\n###\\n\\ncon...  \n",
       "4    title: updating objects in state\\n\\n###\\n\\ncon...  \n",
       "..                                                 ...  \n",
       "379  title: useDebugValue\\n\\n###\\n\\ncontent: \\n tit...  \n",
       "380  title: memo\\n\\n###\\n\\ncontent: \\n title: creat...  \n",
       "381  title: memo\\n\\n###\\n\\ncontent: \\n title: creat...  \n",
       "382  title: createFactory\\n\\n###\\n\\ncontent: \\n tit...  \n",
       "383  title: createElement\\n\\n###\\n\\ncontent: \\n tit...  \n",
       "\n",
       "[384 rows x 4 columns]"
      ]
     },
     "execution_count": 126,
     "metadata": {},
     "output_type": "execute_result"
    }
   ],
   "source": [
    "df"
   ]
  },
  {
   "cell_type": "markdown",
   "metadata": {},
   "source": [
    "----"
   ]
  },
  {
   "cell_type": "code",
   "execution_count": 11,
   "metadata": {},
   "outputs": [],
   "source": [
    "df = pd.read_csv('C:/Users/r2com/Documents/GitHub/sesac-project/data/raw/embeddings.csv')"
   ]
  },
  {
   "cell_type": "code",
   "execution_count": 14,
   "metadata": {},
   "outputs": [],
   "source": [
    "df.drop(['Unnamed: 0'],axis=1, inplace =True)"
   ]
  },
  {
   "cell_type": "code",
   "execution_count": 15,
   "metadata": {},
   "outputs": [],
   "source": [
    "df.drop(['embeddings'],axis=1, inplace =True)"
   ]
  },
  {
   "cell_type": "code",
   "execution_count": 16,
   "metadata": {},
   "outputs": [],
   "source": [
    "def get_embedding(text, model=\"text-embedding-ada-002\"):\n",
    "   text = text.replace(\"\\n\", \" \")\n",
    "   return client.embeddings.create(input = [text], model=model).data[0].embedding"
   ]
  },
  {
   "cell_type": "code",
   "execution_count": 17,
   "metadata": {},
   "outputs": [],
   "source": [
    "df[\"embedding\"] = df.text.apply(get_embedding)\n",
    "df.to_pickle(\"../../processed/react-processed.pkl\")"
   ]
  },
  {
   "cell_type": "code",
   "execution_count": 18,
   "metadata": {},
   "outputs": [],
   "source": [
    "df = pd.read_pickle(\"../../processed/react-processed.pkl\")"
   ]
  },
  {
   "cell_type": "markdown",
   "metadata": {},
   "source": [
    "##  여기서부터는 테스트 코드!!!!!!!!!!!!!!!!!!!\n",
    "### 실제 개발환경에서 배포할 때 확인할 목적!"
   ]
  },
  {
   "cell_type": "code",
   "execution_count": 104,
   "metadata": {},
   "outputs": [],
   "source": [
    "df = pd.read_pickle(\"../../processed/react-processed.pkl\")\n",
    "def create_context(\n",
    "    question, df, max_len=3000\n",
    "):\n",
    "    q_embeddings = client.embeddings.create(input=question, model='text-embedding-ada-002').data[0].embedding\n",
    "    df[\"distances\"] = df[\"embedding\"].apply(lambda x: cosine(q_embeddings, x))\n",
    "    returns = []\n",
    "    cur_len = 0\n",
    "    for i, row in df.sort_values('distances', ascending=True).iterrows():\n",
    "        cur_len += row['n_tokens'] + 4\n",
    "        if cur_len > max_len:\n",
    "            break\n",
    "        returns.append(row[\"text\"])\n",
    "    return \"\\n\\n===\\n\\n\".join(returns)\n",
    "\n",
    "\n",
    "def answer_question(\n",
    "    df,\n",
    "    model=\"gpt-3.5-turbo\",\n",
    "    question=\"What is difference between useEffect and useLayoutEffect in React?\",\n",
    "    max_len=4000,\n",
    "    debug=False,\n",
    "):\n",
    "    context = create_context(\n",
    "        question,\n",
    "        df,\n",
    "        max_len=max_len,\n",
    "    )\n",
    "    if debug:\n",
    "        print(\"Context:\\n\" + context)\n",
    "        print(\"\\n\\n\")\n",
    "\n",
    "    try:\n",
    "        response = client.chat.completions.create(\n",
    "            model=model,\n",
    "            messages=[\n",
    "                {\"role\": \"system\", \"content\": \"Answer the question based on the context below, and if the question can't be answered based on the context, say \\\"I don't know\\\"\\n\\n\"},\n",
    "                {\"role\": \"user\", \"content\": f\"context: {context}\\n\\n---\\n\\n Question: {question}, 한국어로 대답해줘.\"}\n",
    "            ],\n",
    "            temperature=0,\n",
    "        )\n",
    "        return response.choices[0].message.content\n",
    "    except Exception as e:\n",
    "        print(\"Error occurred:\", e)\n",
    "        return \"\""
   ]
  },
  {
   "cell_type": "code",
   "execution_count": 105,
   "metadata": {},
   "outputs": [
    {
     "data": {
      "text/plain": [
       "'useEffect와 useLayoutEffect의 차이점은 다음과 같습니다.\\n\\n- useEffect는 비동기적으로 실행되며, 컴포넌트가 렌더링된 후에 실행됩니다. 이는 렌더링에 영향을 주지 않고, 렌더링이 완료된 후에 부수 효과를 처리하는 데 사용됩니다.\\n- useLayoutEffect는 동기적으로 실행되며, 컴포넌트가 렌더링된 후에 바로 실행됩니다. 이는 렌더링 전에 DOM을 조작하거나 측정해야 하는 경우에 사용됩니다. useLayoutEffect는 useEffect와 달리 브라우저가 화면을 업데이트하기 전에 실행되므로, 사용자에게 더 나은 경험을 제공할 수 있습니다.\\n\\n따라서, useEffect는 비동기적인 작업에 사용되고, useLayoutEffect는 동기적인 작업에 사용됩니다.'"
      ]
     },
     "execution_count": 105,
     "metadata": {},
     "output_type": "execute_result"
    }
   ],
   "source": [
    "answer_question(df, question=\"What is difference between useEffect and useLayoutEffect in React?\")"
   ]
  },
  {
   "cell_type": "code",
   "execution_count": null,
   "metadata": {},
   "outputs": [
    {
     "data": {
      "text/plain": [
       "'TOBIGS는 2024년에 개최된 빅데이터 동아리로, 제목에서 언급된 것처럼 빅데이터와 관련된 활동을 하는 동아리입니다. 이 동아리는 자체 홈페이지를 운영하며, 멋진 커뮤니티와 시스템을 가지고 있습니다. 이전 기수들의 업적과 경쟁률을 보면서 동아리에 지원하는 것이 어렵지 않을 것 같지 않다는 생각을 했습니다. 서류 전형에 합격하기 위해 자기소개와 투빅스에 지원한 동기, 데이터 분석 또는 AI 분야에 관심을 갖게 된 경험과 활동, 협업 경험, 그리고 투빅스에서 하고 싶은 프로젝트에 대해 작성해야 했습니다. 면접은 다대다 방식으로 진행되었고, 면접 심사를 거치기 위해 많은 지원자들이 경쟁했습니다. 면접에서는 투빅스에 대한 이해도와 동아리 활동을 끝까지 수행할 수 있는 열정과 성실성을 보여줄 수 있는 것이 중요하다고 생각했습니다. 면접에서는 자기소개, 서류에 작성한 프로젝트 관련 지식, 인공지능 관련 지식, 그리고 자기소개서와 관련된 심화 질문이 주어졌습니다. TOBIGS는 세 개의 조로 나누어지는데, 조는 관심 분야에 따라 편성됩니다. 면접을 준비할 때는 과거 프로젝트를 참고하여 모델에 대해 공부하고 자기소개서 내용을 중심으로 리마인드했습니다. 면접에서는 자신을 기억에 남게하는 한 가지 소재나 단어를 잡는 것이 중요하다고 생각했습니다. TOBIGS에 합류한 후에는 열심히 활동하고 최종 후기를 남기는 것을 목표로 하고 있습니다.'"
      ]
     },
     "metadata": {},
     "output_type": "display_data"
    }
   ],
   "source": [
    "answer_question(df, question=\"TOBIGS에 대해 설명해줘\")"
   ]
  }
 ],
 "metadata": {
  "kernelspec": {
   "display_name": ".venv",
   "language": "python",
   "name": "python3"
  },
  "language_info": {
   "codemirror_mode": {
    "name": "ipython",
    "version": 3
   },
   "file_extension": ".py",
   "mimetype": "text/x-python",
   "name": "python",
   "nbconvert_exporter": "python",
   "pygments_lexer": "ipython3",
   "version": "3.9.13"
  }
 },
 "nbformat": 4,
 "nbformat_minor": 2
}
