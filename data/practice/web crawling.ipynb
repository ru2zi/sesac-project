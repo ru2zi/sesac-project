{
 "cells": [
  {
   "cell_type": "code",
   "execution_count": 18,
   "metadata": {
    "collapsed": true
   },
   "outputs": [],
   "source": [
    "# 필요한 라이브러리 임포트\n",
    "import requests\n",
    "from lxml import html\n",
    "from IPython.display import Image, display"
   ]
  },
  {
   "cell_type": "markdown",
   "metadata": {
    "collapsed": false
   },
   "source": [
    "# 실습 1. 대통령 프로필 사진과 약력 가져오기"
   ]
  },
  {
   "cell_type": "markdown",
   "metadata": {
    "collapsed": false
   },
   "source": [
    "[링크](https://www.president.go.kr/president/greeting) 여기서 대통령의 프로필과 약력을 알 수 있어요."
   ]
  },
  {
   "cell_type": "code",
   "execution_count": null,
   "metadata": {},
   "outputs": [],
   "source": [
    "president_img_url = 'https://www.president.go.kr/assets/images/president/intro_president.png'\n",
    "president_img = requests.get(president_img_url).content\n",
    "display(Image(president_img))"
   ]
  },
  {
   "cell_type": "markdown",
   "metadata": {},
   "source": [
    "## 잠깐!\n",
    "\n",
    "`requests`의 `response` 표현 차이\n",
    " - `json`: json 양식으로 응답이 왔다면 `json()` 메소드 사용가능. json이 아닌 경우 에러 발생\n",
    " - `content`: binary로 보여줌.\n",
    " - `text` : 문자열 형식으로 보여줌."
   ]
  },
  {
   "cell_type": "markdown",
   "metadata": {},
   "source": [
    "## 대통령 프사 저장하기"
   ]
  },
  {
   "cell_type": "code",
   "execution_count": null,
   "metadata": {
    "collapsed": false
   },
   "outputs": [],
   "source": [
    "with open('profile_image.jpg','wb') as f:\n",
    "    f.write(president_img)"
   ]
  },
  {
   "cell_type": "markdown",
   "metadata": {
    "collapsed": false
   },
   "source": [
    "## 이번에는 약력을 가져와 보자\n",
    " - 개발자 도구를 열어서 아래 크롤링한 페이지와 비교해 봐요."
   ]
  },
  {
   "cell_type": "code",
   "execution_count": null,
   "metadata": {
    "collapsed": false
   },
   "outputs": [],
   "source": [
    "response = requests.get('https://www.president.go.kr/president/profile')\n",
    "president_profile = html.fromstring(response.text).xpath('//div[@class=\"historyWrap\"]//text()')\n",
    "president_profile\n"
   ]
  },
  {
   "cell_type": "markdown",
   "metadata": {},
   "source": [
    "## 내가 원하는 요소만 선택하는 방법\n",
    "\n",
    "1. 열심히 배운 xpath 문법을 적극 활용한다.\n",
    "2. 개발자 도구를 적극 이용한다.\n",
    "    - 개발자 도구에서 내가 가져오기를 원하는 요소를 Elements 탭에서 선택하기\n"
   ]
  },
  {
   "cell_type": "markdown",
   "metadata": {},
   "source": [
    "### 문제 1. 약력 문자열 다듬기\n",
    "#### 지금까지 갈고 닦은 파이썬을 바탕으로 대통령의 약력을 깔끔한 형태로 만들어 보세요."
   ]
  },
  {
   "cell_type": "code",
   "execution_count": null,
   "metadata": {},
   "outputs": [],
   "source": [
    "president_profile # YOUR CODE HERE."
   ]
  },
  {
   "cell_type": "markdown",
   "metadata": {},
   "source": [
    "### 문제 2. 약력을 데이터 프레임으로 만들기\n",
    " - `start`, `end`, `position` 3개의 column을 만들어 약력을 데이터 프레임으로 만들어 `president_df`에 저장해 보세요."
   ]
  },
  {
   "cell_type": "code",
   "execution_count": null,
   "metadata": {},
   "outputs": [],
   "source": [
    "president_df # YOUR CODE HERE."
   ]
  },
  {
   "cell_type": "markdown",
   "metadata": {},
   "source": [
    "### 문제 3. 데이터 프레임 CSV로 저장하기\n",
    " - 데이터 프레임을 csv 파일로 만들어 `president_profile.csv`로 저장하세요. 단, index가 있으면 안됩니다."
   ]
  },
  {
   "cell_type": "markdown",
   "metadata": {
    "collapsed": false
   },
   "source": [
    "## 실습2. 내가 좋아하는 웹툰을 파일로 저장해보자."
   ]
  },
  {
   "cell_type": "markdown",
   "metadata": {},
   "source": [
    "### 이미지 파일들 주소 가져오기: GET 방식이 쓰였음을 기억하기\n",
    "### 문제 4. 웹툰 이미지의 경로 xpath 추출해 내기"
   ]
  },
  {
   "cell_type": "code",
   "execution_count": null,
   "metadata": {
    "collapsed": false
   },
   "outputs": [],
   "source": [
    "webtoon_url = 'https://comic.naver.com/webtoon/detail?titleId=478261&no=87&week=thu'\n",
    "webtoon_page = requests.get(webtoon_url).text\n",
    "webtoon_xpath = '' # xpath 표현식을 입력하세요.\n",
    "image_list = html.fromstring(webtoon_page).xpath(webtoon_xpath)\n",
    "image_list"
   ]
  },
  {
   "cell_type": "code",
   "execution_count": null,
   "metadata": {
    "collapsed": false
   },
   "outputs": [],
   "source": [
    "for img_url in image_list:\n",
    "    response = requests.get(img_url)\n",
    "    print(response)\n",
    "    break"
   ]
  },
  {
   "cell_type": "markdown",
   "metadata": {},
   "source": [
    "## Response가 4로 시작하면, 실패했다는 뜻입니다. 특히 403 에러는 서버에서 접근을 금지시켜 놓은 것입니다.\n",
    " - 네이버에서 Yeti만을 크롤링을 허락했다는 사실을 기억해 내세요.\n",
    " - 링크: https://searchadvisor.naver.com/guide/seo-basic-firewall"
   ]
  },
  {
   "cell_type": "markdown",
   "metadata": {},
   "source": [
    "### 문제 5. 대통령 프로필 이미지를 저장했던 것을 기억하고 내가 좋아하는 웹툰 이미지들을 저장해 보세요."
   ]
  },
  {
   "cell_type": "code",
   "execution_count": null,
   "metadata": {
    "collapsed": false
   },
   "outputs": [],
   "source": [
    "headers = {\n",
    "    'User-Agent': 'Mozilla/5.0 (Windows NT 6.1; Win64; x64) AppleWebit/53.7.36 (KHTML, like Gecko) Chrome/63.0.3239.0 Safari/537.36 (compatible; Yeti/1.1; +https://naver.me/spd)',\n",
    "}\n",
    "for idx, img_url in enumerate(image_list):\n",
    "    response = requests.get(img_url, headers=headers)\n",
    "    break # break 문을 지우고 코드 작성하기"
   ]
  },
  {
   "cell_type": "markdown",
   "metadata": {
    "collapsed": false
   },
   "source": [
    "## 실습 3. 쿠팡 장바구니에 물건 마구마구 담기\n",
    " - 쿠팡에 먼저 로그인 해 두세요.\n",
    " - 다음 삼다수 구매 링크로 이동하세요. 링크: https://www.coupang.com/vp/products/7666070794?itemId=16569434481&vendorItemId=86478559145&pickType=COU_PICK&q=%EC%82%BC%EB%8B%A4%EC%88%98&itemsCount=33&searchId=1319c79bbcee464184111c4f44edef46&rank=0&isAddedCart=\n",
    " - 장바구니에 물건 담을 때 보내는 요청 curl로 가로채기"
   ]
  },
  {
   "cell_type": "markdown",
   "metadata": {},
   "source": [
    "1. 다음 사이트에 이동해서 방금 복사한 내용을 붙여 넣으세요.\n",
    " - 링크: https://curlconverter.com/python/\n",
    "2. Postman을 이용해서 방금 복사한 내용을 붙여 놓고 리퀘스트 해보세요."
   ]
  },
  {
   "cell_type": "markdown",
   "metadata": {},
   "source": [
    "### POST 방식이 쓰였음을 꼭 기억하세요."
   ]
  }
 ],
 "metadata": {
  "kernelspec": {
   "display_name": "Python 3",
   "language": "python",
   "name": "python3"
  },
  "language_info": {
   "codemirror_mode": {
    "name": "ipython",
    "version": 3
   },
   "file_extension": ".py",
   "mimetype": "text/x-python",
   "name": "python",
   "nbconvert_exporter": "python",
   "pygments_lexer": "ipython3",
   "version": "3.11.4"
  }
 },
 "nbformat": 4,
 "nbformat_minor": 0
}
