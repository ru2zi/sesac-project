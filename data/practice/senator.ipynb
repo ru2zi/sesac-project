{
 "cells": [
  {
   "cell_type": "code",
   "execution_count": null,
   "metadata": {},
   "outputs": [],
   "source": [
    "import requests\n",
    "import pandas as pd\n",
    "import itertools"
   ]
  },
  {
   "cell_type": "code",
   "execution_count": null,
   "metadata": {},
   "outputs": [],
   "source": [
    "# 발급 받은 API 키\n",
    "YOUR_API_KEY = '640b6edf35bb47f280aac61745395c9e'\n",
    "# 국회의원 발의법률안 데이터 아이디\n",
    "data_id = 'nzmimeepazxkubdpn'"
   ]
  },
  {
   "cell_type": "code",
   "execution_count": null,
   "metadata": {},
   "outputs": [],
   "source": [
    "url = f\"https://open.assembly.go.kr/portal/openapi/{data_id}?KEY={YOUR_API_KEY}&AGE=21&Type=json\"\n",
    "response = requests.get(url).json()"
   ]
  },
  {
   "cell_type": "code",
   "execution_count": null,
   "metadata": {},
   "outputs": [],
   "source": [
    "# 한 번에 100개씩 밖에 데이터를 못가져 온다...\n",
    "len(response[data_id][1]['row'])"
   ]
  },
  {
   "cell_type": "code",
   "execution_count": null,
   "metadata": {},
   "outputs": [],
   "source": [
    "max_page = response[data_id][0]['head'][0]['list_total_count']\n",
    "max_page"
   ]
  },
  {
   "cell_type": "code",
   "execution_count": null,
   "metadata": {},
   "outputs": [],
   "source": [
    "all_laws = []\n",
    "for page_num in range(1, int(max_page/1000+2)):\n",
    "    p_size= page_num*1000\n",
    "    p_index = page_num\n",
    "    url = f\"https://open.assembly.go.kr/portal/openapi/{data_id}?KEY={YOUR_API_KEY}&AGE=21&Type=json&pIndex={page_num}&pSize=1000\"\n",
    "    laws = requests.get(url).json()[data_id][1]['row']\n",
    "    all_laws.extend(laws)\n",
    "all_laws = pd.DataFrame(all_laws)\n",
    "all_laws.head()"
   ]
  },
  {
   "cell_type": "code",
   "execution_count": null,
   "metadata": {},
   "outputs": [],
   "source": [
    "# 혹시 날아갈까, 데이터를 파일로 저장하자.\n",
    "all_laws.to_csv(\"all_laws.csv\",index=False)"
   ]
  },
  {
   "cell_type": "code",
   "execution_count": null,
   "metadata": {},
   "outputs": [],
   "source": [
    "# 이번에는 국회의원들의 프로필을 털어보자.\n",
    "data2_id = 'nwvrqwxyaytdsfvhu'\n",
    "url =f\"https://open.assembly.go.kr/portal/openapi/{data2_id}?KEY={YOUR_API_KEY}&Type=json&UNIT_CD=100020&pSize=1000\"\n",
    "senators = requests.get(url).json()[data2_id][1]['row']\n",
    "senators = pd.DataFrame(senators)\n",
    "senators"
   ]
  },
  {
   "cell_type": "code",
   "execution_count": null,
   "metadata": {},
   "outputs": [],
   "source": [
    "# 혹시 날아갈까, 데이터를 파일로 저장하자.\n",
    "senators.to_csv(\"senators.csv\",index=False)"
   ]
  },
  {
   "cell_type": "code",
   "execution_count": null,
   "metadata": {},
   "outputs": [],
   "source": [
    "# 아래는 같은 법률로 발의된 국회의원들의 조합을 찾아서, 그래프를 그리기 위한 데이터를 만드는 과정이다.\n",
    "all_laws['PUBL_PROPOSER'] = all_laws['PUBL_PROPOSER']+','+all_laws['RST_PROPOSER']\n",
    "all_laws['senator'] = all_laws['PUBL_PROPOSER'].str.split(',')\n",
    "all_laws = all_laws[all_laws['senator'].notnull()]\n",
    "pairs = all_laws['senator'].apply(lambda x: x if x is None else list(itertools.combinations(x,2))).explode()\n",
    "pairs = pd.DataFrame(pairs.tolist(), columns=['Source', 'Target'])\n",
    "pairs = pairs[pairs['Target'].notnull()]"
   ]
  },
  {
   "cell_type": "code",
   "execution_count": null,
   "metadata": {},
   "outputs": [],
   "source": [
    "# edge_list.csv 파일로 저장하자.\n",
    "pairs.to_csv(\"edge_list.csv\", index=False)"
   ]
  },
  {
   "cell_type": "code",
   "execution_count": null,
   "metadata": {},
   "outputs": [],
   "source": [
    "# 국회의원들은 노드 리스트로 만들어서 저장하자.\n",
    "node_list = senators[['HG_NM','HG_NM', 'POLY_NM', 'ORIG_NM', 'SEX_GBN_NM']]\n",
    "node_list.columns = ['Id','Label','Party','Local', 'Gender']\n",
    "node_list.to_csv(\"node_list.csv\",index=False)"
   ]
  },
  {
   "cell_type": "markdown",
   "metadata": {},
   "source": [
    "### [Gephi](https://gephi.org/)에서 실습?"
   ]
  },
  {
   "cell_type": "markdown",
   "metadata": {},
   "source": []
  }
 ],
 "metadata": {
  "kernelspec": {
   "display_name": "Python 3",
   "language": "python",
   "name": "python3"
  },
  "language_info": {
   "codemirror_mode": {
    "name": "ipython",
    "version": 3
   },
   "file_extension": ".py",
   "mimetype": "text/x-python",
   "name": "python",
   "nbconvert_exporter": "python",
   "pygments_lexer": "ipython3",
   "version": "3.11.4"
  }
 },
 "nbformat": 4,
 "nbformat_minor": 2
}
