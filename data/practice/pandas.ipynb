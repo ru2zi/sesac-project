{
  "cells": [
    {
      "cell_type": "markdown",
      "metadata": {
        "id": "5ZWRlwJkThBc"
      },
      "source": [
        "![pandas](https://www.hanbit.co.kr/data/books/B6417848794_l.jpg)\n",
        "\n",
        "https://wikidocs.net/32829"
      ]
    },
    {
      "cell_type": "markdown",
      "metadata": {
        "id": "O01pJH-rI112"
      },
      "source": [
        "### 0. 판다스 시작하기"
      ]
    },
    {
      "cell_type": "code",
      "execution_count": null,
      "metadata": {
        "id": "LNnMssFzI112"
      },
      "outputs": [],
      "source": [
        "import pandas as pd\n",
        "import numpy as np"
      ]
    },
    {
      "cell_type": "markdown",
      "metadata": {
        "id": "P2wsB5xlI114"
      },
      "source": [
        "### 1. pandas 데이터 구조 소개"
      ]
    },
    {
      "cell_type": "markdown",
      "metadata": {
        "id": "zXZYDW7pI114"
      },
      "source": [
        "#### Series"
      ]
    },
    {
      "cell_type": "code",
      "execution_count": null,
      "metadata": {
        "colab": {
          "base_uri": "https://localhost:8080/"
        },
        "id": "HAig6hHbI115",
        "outputId": "80f00bed-d36f-42fa-8de6-57954c06c237"
      },
      "outputs": [],
      "source": [
        "obj = pd.Series([4, 7, -5, 3])\n",
        "obj"
      ]
    },
    {
      "cell_type": "code",
      "execution_count": null,
      "metadata": {
        "colab": {
          "base_uri": "https://localhost:8080/"
        },
        "id": "7oc-StXbI115",
        "outputId": "0bb9a609-4eb8-4a6a-eff6-b9c843104ab9"
      },
      "outputs": [],
      "source": [
        "# obj.values\n",
        "obj.index  #  range(4) 랑 같다."
      ]
    },
    {
      "cell_type": "code",
      "execution_count": null,
      "metadata": {
        "colab": {
          "base_uri": "https://localhost:8080/"
        },
        "id": "UyvJ95CJI116",
        "outputId": "3077d3f6-cdac-4b44-9137-8a65fec66c02"
      },
      "outputs": [],
      "source": [
        "obj2 = pd.Series([4, 7, -5, 3], index=['d', 'b', 'a', 'c'])\n",
        "obj2\n",
        "# obj2.index 를 주목해라."
      ]
    },
    {
      "cell_type": "code",
      "execution_count": null,
      "metadata": {
        "colab": {
          "base_uri": "https://localhost:8080/"
        },
        "id": "gLNNNYO1I117",
        "outputId": "bf0a88be-6600-4c4a-d9f7-6544e5a2097d"
      },
      "outputs": [],
      "source": [
        "# obj2['a']\n",
        "obj2['d'] = 6\n",
        "obj2[['c', 'a', 'd']] # list가 key로 들어갔다는 것에 주목해라."
      ]
    },
    {
      "cell_type": "markdown",
      "metadata": {
        "id": "21UpSPlyI117"
      },
      "source": [
        "#### DataFrame"
      ]
    },
    {
      "cell_type": "code",
      "execution_count": null,
      "metadata": {
        "id": "Imea-GJeI117"
      },
      "outputs": [],
      "source": [
        "# 같은 길이의 리스트로 만들어진 딕셔너리를 이용하면 Series와 DataFrame을 생성할 수 있다.\n",
        "data = {'state': ['Ohio', 'Ohio', 'Ohio', 'Nevada', 'Nevada', 'Nevada'],\n",
        "        'year': [2000, 2001, 2002, 2001, 2002, 2003],\n",
        "        'pop': [1.5, 1.7, 3.6, 2.4, 2.9, 3.2]}\n",
        "frame = pd.DataFrame(data)\n"
      ]
    },
    {
      "cell_type": "code",
      "execution_count": null,
      "metadata": {
        "colab": {
          "base_uri": "https://localhost:8080/",
          "height": 238
        },
        "id": "NGX_Mz_EI117",
        "outputId": "653d36bf-6a15-4246-835d-761e3514023e"
      },
      "outputs": [],
      "source": [
        "frame"
      ]
    },
    {
      "cell_type": "code",
      "execution_count": null,
      "metadata": {
        "colab": {
          "base_uri": "https://localhost:8080/",
          "height": 143
        },
        "id": "CejzI5x4I118",
        "outputId": "21e71c33-2dfc-408b-9d9e-677feb65d214"
      },
      "outputs": [],
      "source": [
        "frame.tail(3)"
      ]
    },
    {
      "cell_type": "code",
      "execution_count": null,
      "metadata": {
        "colab": {
          "base_uri": "https://localhost:8080/",
          "height": 238
        },
        "id": "7jQFFVhrI118",
        "outputId": "1873c1ab-ebc4-4387-adaa-e6aafe2bc6e1"
      },
      "outputs": [],
      "source": [
        "# 만약 원하는 순서대로 columns를 지정하고 싶다면 columns를 지정해주면 된다.\n",
        "pd.DataFrame(data, columns=['year', 'state', 'pop'])"
      ]
    },
    {
      "cell_type": "code",
      "execution_count": null,
      "metadata": {
        "colab": {
          "base_uri": "https://localhost:8080/",
          "height": 238
        },
        "id": "SruD4A75I118",
        "outputId": "b2f23fe8-01e4-45a8-b1f0-a97b14a643ef"
      },
      "outputs": [],
      "source": [
        "# index 값이 숫자로만 넣을 수 있다는 편견을 버리자!\n",
        "# 없는 Key 값이 있으면 새로 만들고 값이 없으면 NaN으로 채운다.\n",
        "\n",
        "frame2 = pd.DataFrame(data, columns=['year', 'state', 'pop', 'debt'],\n",
        "                      index=['one', 'two', 'three', 'four',\n",
        "                             'five', 'six'])\n",
        "frame2"
      ]
    },
    {
      "cell_type": "code",
      "execution_count": null,
      "metadata": {
        "colab": {
          "base_uri": "https://localhost:8080/"
        },
        "id": "0QbNc990I119",
        "outputId": "3e3b3051-52c3-448c-99ca-56b9912d0bf4"
      },
      "outputs": [],
      "source": [
        "frame2.columns"
      ]
    },
    {
      "cell_type": "code",
      "execution_count": null,
      "metadata": {
        "colab": {
          "base_uri": "https://localhost:8080/"
        },
        "id": "HxvGhebZI119",
        "outputId": "aa7557c8-801e-4476-c30b-b9023192fa5d"
      },
      "outputs": [],
      "source": [
        "frame2['state']\n",
        "# frame2.year"
      ]
    },
    {
      "cell_type": "code",
      "execution_count": null,
      "metadata": {
        "colab": {
          "base_uri": "https://localhost:8080/"
        },
        "id": "ouGbimTsI119",
        "outputId": "16bb779d-2fed-4764-96cf-6a381cb2e092"
      },
      "outputs": [],
      "source": [
        "# loc 의 사용 방법을 주목해라. 메소드를 사용하는 것이 아니라 속성처럼 사용한다.\n",
        "# loc 는 index를 기준으로 값을 찾는다. 그래서 index가 없으면 에러가 난다.\n",
        "frame2.loc['three']\n"
      ]
    },
    {
      "cell_type": "code",
      "execution_count": null,
      "metadata": {
        "colab": {
          "base_uri": "https://localhost:8080/",
          "height": 238
        },
        "id": "XGxro4RdI119",
        "outputId": "0df3dc2a-c2fb-480f-80e7-766ff64294e2"
      },
      "outputs": [],
      "source": [
        "# 그냥 값을 넣으면 해당 컬럼에 모든 값이 그 값으로 채워진다.\n",
        "\n",
        "frame2['debt'] = 16.5\n",
        "frame2"
      ]
    },
    {
      "cell_type": "code",
      "execution_count": null,
      "metadata": {
        "colab": {
          "base_uri": "https://localhost:8080/",
          "height": 238
        },
        "id": "qApavndkI11-",
        "outputId": "2efc6869-e401-4cb8-c65d-ccdf4d0b1d1c"
      },
      "outputs": [],
      "source": [
        "# 리스트나 배열을 넣으면 전체에 대입한다. \n",
        "frame2['debt'] = np.arange(6.)\n",
        "frame2"
      ]
    },
    {
      "cell_type": "code",
      "execution_count": null,
      "metadata": {
        "colab": {
          "base_uri": "https://localhost:8080/",
          "height": 238
        },
        "id": "NFlEuDDCI11-",
        "outputId": "c964454a-3dcb-462b-e84d-eeb6c87277b7"
      },
      "outputs": [],
      "source": [
        "# Series를 넣으면 index에 맞춰서 대입한다. 없는 index는 NaN으로 채운다.\n",
        "val = pd.Series([-1.2, -1.5, -1.7], index=['two', 'four', 'five'])\n",
        "frame2['debt'] = val\n",
        "frame2"
      ]
    },
    {
      "cell_type": "code",
      "execution_count": null,
      "metadata": {
        "colab": {
          "base_uri": "https://localhost:8080/",
          "height": 238
        },
        "id": "0dGeSPLOI11-",
        "outputId": "53ec18f8-632e-4ebf-cfdc-e7b41ab44c75"
      },
      "outputs": [],
      "source": [
        "# 조건 연산을 통해서 값을 집어 넣는 경우\n",
        "frame2['eastern'] = frame2.state == 'Ohio'\n",
        "frame2"
      ]
    },
    {
      "cell_type": "code",
      "execution_count": null,
      "metadata": {
        "colab": {
          "base_uri": "https://localhost:8080/"
        },
        "id": "5MacIFW2I11-",
        "outputId": "b953db0e-45b4-458f-b1e7-8435cae15255"
      },
      "outputs": [],
      "source": [
        "del frame2['eastern']\n",
        "frame2.columns"
      ]
    },
    {
      "cell_type": "code",
      "execution_count": null,
      "metadata": {
        "id": "OtOeN2SII11-"
      },
      "outputs": [],
      "source": [
        "pop = {'Nevada': {2001: 2.4, 2002: 2.9},\n",
        "       'Ohio': {2000: 1.5, 2001: 1.7, 2002: 3.6}}"
      ]
    },
    {
      "cell_type": "code",
      "execution_count": null,
      "metadata": {
        "colab": {
          "base_uri": "https://localhost:8080/",
          "height": 143
        },
        "id": "D7CXv_xdI11-",
        "outputId": "ae3f739a-c64e-4eb0-c03e-aa0dbe5b7f00"
      },
      "outputs": [],
      "source": [
        "frame3 = pd.DataFrame(pop)\n",
        "frame3"
      ]
    },
    {
      "cell_type": "code",
      "execution_count": null,
      "metadata": {
        "colab": {
          "base_uri": "https://localhost:8080/",
          "height": 112
        },
        "id": "wytPFdJvI11_",
        "outputId": "6ffa55a0-4ffa-49dc-a274-31162c2a3793"
      },
      "outputs": [],
      "source": [
        "# transpose 로 행과 열을 바꿀 수 있다.\n",
        "frame3.T"
      ]
    },
    {
      "cell_type": "code",
      "execution_count": null,
      "metadata": {
        "colab": {
          "base_uri": "https://localhost:8080/",
          "height": 143
        },
        "id": "POqh5GXYI11_",
        "outputId": "718d48ec-94af-4bf5-cc04-574edb58c667"
      },
      "outputs": [],
      "source": [
        "# index가 없는 값으로 만들면, NaN으로 채워진다.\n",
        "pd.DataFrame(pop, index=[2001, 2002, 2003])"
      ]
    },
    {
      "cell_type": "code",
      "execution_count": null,
      "metadata": {
        "colab": {
          "base_uri": "https://localhost:8080/",
          "height": 112
        },
        "id": "n3jvxxdJI11_",
        "outputId": "68f6d389-138d-4997-ecfd-b0720fcc15c1"
      },
      "outputs": [],
      "source": [
        "# 리스트 슬라이싱 하듯이 ~\n",
        "pdata = {'Ohio': frame3['Ohio'][:-1],\n",
        "         'Nevada': frame3['Nevada'][:2]}\n",
        "pd.DataFrame(pdata)"
      ]
    },
    {
      "cell_type": "code",
      "execution_count": null,
      "metadata": {
        "colab": {
          "base_uri": "https://localhost:8080/",
          "height": 175
        },
        "id": "JSfVdpayI11_",
        "outputId": "729d458c-6880-4177-bb4e-d7c9797c7acd"
      },
      "outputs": [],
      "source": [
        "# index와 columns에 이름을 붙일 수 있다.\n",
        "\n",
        "frame3.index.name = 'year'\n",
        "frame3.columns.name = 'state'\n",
        "frame3"
      ]
    },
    {
      "cell_type": "code",
      "execution_count": null,
      "metadata": {
        "colab": {
          "base_uri": "https://localhost:8080/"
        },
        "id": "jwoEt9jeI11_",
        "outputId": "71218297-d3e2-4a74-bf3b-9a5b8194d763"
      },
      "outputs": [],
      "source": [
        "frame3.values"
      ]
    },
    {
      "cell_type": "code",
      "execution_count": null,
      "metadata": {
        "colab": {
          "base_uri": "https://localhost:8080/"
        },
        "id": "iYvdPGsSI11_",
        "outputId": "4722e58b-d30b-446b-fa17-784bb5de8880"
      },
      "outputs": [],
      "source": [
        "frame2.values"
      ]
    },
    {
      "cell_type": "markdown",
      "metadata": {
        "id": "k4xLPl1oI11_"
      },
      "source": [
        "#### Index Objects"
      ]
    },
    {
      "cell_type": "code",
      "execution_count": null,
      "metadata": {
        "colab": {
          "base_uri": "https://localhost:8080/"
        },
        "id": "4eyReYbdI11_",
        "outputId": "a109ae6a-38e0-408f-d76a-caf2d7adf986"
      },
      "outputs": [],
      "source": [
        "# 사실 index도 객체이다.\n",
        "obj = pd.Series(range(3), index=['a', 'b', 'c'])\n",
        "index = obj.index\n",
        "index"
      ]
    },
    {
      "cell_type": "code",
      "execution_count": null,
      "metadata": {
        "colab": {
          "base_uri": "https://localhost:8080/"
        },
        "id": "7NjJKtlDI12A",
        "outputId": "e328fb31-c346-4bc2-8ac1-d11b70dadc85"
      },
      "outputs": [],
      "source": [
        "index[1:]"
      ]
    },
    {
      "cell_type": "code",
      "execution_count": null,
      "metadata": {},
      "outputs": [],
      "source": [
        "index[1] = 'd' \n",
        "# TypeError 발생"
      ]
    },
    {
      "cell_type": "code",
      "execution_count": null,
      "metadata": {
        "colab": {
          "base_uri": "https://localhost:8080/"
        },
        "id": "S7c6VvOmI12A",
        "outputId": "7e6e60a6-4d69-4403-f851-5cde032168ad"
      },
      "outputs": [],
      "source": [
        "# pd.Index를 이용하면 바로 index를 만들 수 있다.\n",
        "labels = pd.Index(np.arange(3))\n",
        "labels"
      ]
    },
    {
      "cell_type": "code",
      "execution_count": null,
      "metadata": {
        "colab": {
          "base_uri": "https://localhost:8080/"
        },
        "id": "MaMx_9jMI12A",
        "outputId": "2afdcb3d-a7f3-4329-e09b-f37ae1a28476"
      },
      "outputs": [],
      "source": [
        "obj2 = pd.Series([1.5, -2.5, 0], index=labels)\n",
        "obj2"
      ]
    },
    {
      "cell_type": "code",
      "execution_count": null,
      "metadata": {
        "colab": {
          "base_uri": "https://localhost:8080/"
        },
        "id": "TLinLH22I12A",
        "outputId": "a519345c-734b-4eb2-8b99-b6d342e507aa"
      },
      "outputs": [],
      "source": [
        "obj2.index is labels"
      ]
    },
    {
      "cell_type": "markdown",
      "metadata": {
        "id": "IRSXuhUcI12A"
      },
      "source": [
        "### 2. 필수 기능들"
      ]
    },
    {
      "cell_type": "code",
      "execution_count": null,
      "metadata": {
        "colab": {
          "base_uri": "https://localhost:8080/",
          "height": 143
        },
        "id": "4WA0Ejp6I12B",
        "outputId": "6d73e485-aad2-4a6e-80c5-4778583db6d8"
      },
      "outputs": [],
      "source": [
        "frame = pd.DataFrame(np.arange(9).reshape((3, 3)),\n",
        "                     index=['a', 'c', 'd'],\n",
        "                     columns=['Ohio', 'Texas', 'California'])\n",
        "frame\n"
      ]
    },
    {
      "cell_type": "code",
      "execution_count": null,
      "metadata": {
        "colab": {
          "base_uri": "https://localhost:8080/",
          "height": 174
        },
        "id": "pTlqZwV8I12B",
        "outputId": "6cf44aff-7822-40cc-dc44-77de7b55b895"
      },
      "outputs": [],
      "source": [
        "frame2 = frame.reindex(['a', 'b', 'c', 'd'])\n",
        "frame2"
      ]
    },
    {
      "cell_type": "code",
      "execution_count": null,
      "metadata": {
        "colab": {
          "base_uri": "https://localhost:8080/",
          "height": 143
        },
        "id": "QPKku-SsI12B",
        "outputId": "c96bacd4-abbd-4cf8-f3ea-1512832acc23"
      },
      "outputs": [],
      "source": [
        "states = ['Texas', 'Utah', 'California']\n",
        "frame.reindex(columns=states)"
      ]
    },
    {
      "cell_type": "code",
      "execution_count": null,
      "metadata": {
        "colab": {
          "base_uri": "https://localhost:8080/",
          "height": 174
        },
        "id": "GGUi6tygI12B",
        "outputId": "d0dc6ab8-96bd-41dc-aa9a-9a355978b1ce"
      },
      "outputs": [],
      "source": [
        "data = pd.DataFrame(np.arange(16).reshape((4, 4)),\n",
        "                    index=['Ohio', 'Colorado', 'Utah', 'New York'],\n",
        "                    columns=['one', 'two', 'three', 'four'])\n",
        "data"
      ]
    },
    {
      "cell_type": "code",
      "execution_count": null,
      "metadata": {
        "colab": {
          "base_uri": "https://localhost:8080/",
          "height": 112
        },
        "id": "y-uigoIcI12C",
        "outputId": "533b4c63-15d7-4090-f5cf-eccbdeddf34d"
      },
      "outputs": [],
      "source": [
        "# drop은 index를 기준으로 값을 지운다.\n",
        "data.drop(['Colorado', 'Ohio'])"
      ]
    },
    {
      "cell_type": "code",
      "execution_count": null,
      "metadata": {
        "colab": {
          "base_uri": "https://localhost:8080/",
          "height": 174
        },
        "id": "yPPn33DLI12C",
        "outputId": "77ebe5a3-bbdf-4b67-9371-5dfe7875c065"
      },
      "outputs": [],
      "source": [
        "# column을 지우는 경우에는 axis=1을 넣어준다. 또는 columns를 넣어준다.\n",
        "data.drop('two', axis=1)\n",
        "data.drop(['two', 'four'], axis='columns')"
      ]
    },
    {
      "cell_type": "code",
      "execution_count": null,
      "metadata": {
        "colab": {
          "base_uri": "https://localhost:8080/",
          "height": 174
        },
        "id": "0MIo_i4bd8lc",
        "outputId": "917ecbbb-fd09-4190-d004-cf13303839da"
      },
      "outputs": [],
      "source": [
        "# inplace=True를 넣어주면 원본이 바뀐다. 다시 할당 말자!!\n",
        "data.drop('three',axis=1,inplace=True)\n",
        "data"
      ]
    },
    {
      "cell_type": "code",
      "execution_count": null,
      "metadata": {
        "colab": {
          "base_uri": "https://localhost:8080/"
        },
        "id": "mlxEbw-vI12C",
        "outputId": "ba051c7d-4bb8-45a0-de0e-1badf2307812"
      },
      "outputs": [],
      "source": [
        "obj.drop('c', inplace=True)\n",
        "obj"
      ]
    },
    {
      "cell_type": "markdown",
      "metadata": {
        "id": "lAFnHr96I12C"
      },
      "source": [
        "#### 선택, 필터링"
      ]
    },
    {
      "cell_type": "code",
      "execution_count": null,
      "metadata": {
        "colab": {
          "base_uri": "https://localhost:8080/"
        },
        "id": "VoazJYAdI12C",
        "outputId": "674acd4d-866e-44e2-bd0e-42517c50fa13"
      },
      "outputs": [],
      "source": [
        "obj = pd.Series(np.arange(4.), index=['a', 'c', 'b', 'd'])\n",
        "obj"
      ]
    },
    {
      "cell_type": "code",
      "execution_count": null,
      "metadata": {
        "colab": {
          "base_uri": "https://localhost:8080/"
        },
        "id": "5lOsJF2oI12C",
        "outputId": "e5754462-e491-4fdc-ec40-56ae2868cc44"
      },
      "outputs": [],
      "source": [
        "# index를 기준으로 정렬한다. \n",
        "obj['c':'b']"
      ]
    },
    {
      "cell_type": "code",
      "execution_count": null,
      "metadata": {
        "colab": {
          "base_uri": "https://localhost:8080/"
        },
        "id": "NCeCC3OTI12C",
        "outputId": "1d51e7c3-063c-40aa-984b-353d877b87d7"
      },
      "outputs": [],
      "source": [
        "obj['b':'c'] = 5\n",
        "obj"
      ]
    },
    {
      "cell_type": "code",
      "execution_count": null,
      "metadata": {
        "colab": {
          "base_uri": "https://localhost:8080/",
          "height": 175
        },
        "id": "7rAwd0r0I12C",
        "outputId": "d3e72386-c713-4e4e-e187-a579d8854dd7"
      },
      "outputs": [],
      "source": [
        "data = pd.DataFrame(np.arange(16).reshape((4, 4)),\n",
        "                    index=['Ohio', 'Colorado', 'Utah', 'New York'],\n",
        "                    columns=['one', 'two', 'three', 'four'])\n",
        "data"
      ]
    },
    {
      "cell_type": "code",
      "execution_count": null,
      "metadata": {
        "colab": {
          "base_uri": "https://localhost:8080/",
          "height": 596
        },
        "id": "rwhpbsIqI12C",
        "outputId": "48f5f3a0-d2a6-4b2f-e316-28f06ee7c23b"
      },
      "outputs": [],
      "source": [
        "# column을 기준으로 선택할 때 리스트로 전달해줌 주의.\n",
        "data[['two', 'one']]"
      ]
    },
    {
      "cell_type": "code",
      "execution_count": null,
      "metadata": {
        "colab": {
          "base_uri": "https://localhost:8080/",
          "height": 112
        },
        "id": "w4nNSIC_I12D",
        "outputId": "4c443db6-1a40-46ae-c349-0a39d501b3fd"
      },
      "outputs": [],
      "source": [
        "# 슬라이싱은 row를 기준으로 선택한다.\n",
        "data[data['two'] > 5]"
      ]
    },
    {
      "cell_type": "code",
      "execution_count": null,
      "metadata": {
        "colab": {
          "base_uri": "https://localhost:8080/",
          "height": 175
        },
        "id": "NusUrwxUI12D",
        "outputId": "a72095fc-5ce4-4a9e-f73a-1c0d15b5446d"
      },
      "outputs": [],
      "source": [
        "data < 5\n",
        "data[data < 5] = 0\n",
        "data"
      ]
    },
    {
      "cell_type": "markdown",
      "metadata": {
        "id": "UgBhxPoHI12D"
      },
      "source": [
        "#### 산술 연산과 데이터 정렬"
      ]
    },
    {
      "cell_type": "code",
      "execution_count": null,
      "metadata": {
        "colab": {
          "base_uri": "https://localhost:8080/"
        },
        "id": "rmVjfT9ZI12D",
        "outputId": "426854c8-4159-4181-b430-ebb327ee8680"
      },
      "outputs": [],
      "source": [
        "s1 = pd.Series([7.3, -2.5, 3.4, 1.5], index=['a', 'c', 'd', 'e'])\n",
        "s2 = pd.Series([-2.1, 3.6, -1.5, 4, 3.1],\n",
        "               index=['a', 'c', 'e', 'f', 'g'])\n",
        "print(s1)\n",
        "print(s2)"
      ]
    },
    {
      "cell_type": "code",
      "execution_count": null,
      "metadata": {
        "colab": {
          "base_uri": "https://localhost:8080/"
        },
        "id": "TCa9y_7OI12D",
        "outputId": "a9745133-47da-4b27-a475-903064d7c13e"
      },
      "outputs": [],
      "source": [
        "# Baam! index가 같은 것끼리 연산을 수행한다.\n",
        "s1 + s2"
      ]
    },
    {
      "cell_type": "code",
      "execution_count": null,
      "metadata": {
        "colab": {
          "base_uri": "https://localhost:8080/"
        },
        "id": "Nc0ROMM3I12D",
        "outputId": "08d97d81-08b6-4852-8ec5-2278fa1a203c"
      },
      "outputs": [],
      "source": [
        "df1 = pd.DataFrame(np.arange(9.).reshape((3, 3)), columns=list('bcd'),\n",
        "                   index=['Ohio', 'Texas', 'Colorado'])\n",
        "df2 = pd.DataFrame(np.arange(12.).reshape((4, 3)), columns=list('bde'),\n",
        "                   index=['Utah', 'Ohio', 'Texas', 'Oregon'])\n",
        "print(df1)\n",
        "print(df2)"
      ]
    },
    {
      "cell_type": "code",
      "execution_count": null,
      "metadata": {
        "colab": {
          "base_uri": "https://localhost:8080/",
          "height": 206
        },
        "id": "tE6K7EDXI12E",
        "outputId": "833c0978-91ab-467d-a5ae-965a04b12ab3"
      },
      "outputs": [],
      "source": [
        "df1 + df2"
      ]
    },
    {
      "cell_type": "markdown",
      "metadata": {
        "id": "Apw6FGctI12E"
      },
      "source": [
        "#### Apply, Map"
      ]
    },
    {
      "cell_type": "code",
      "execution_count": null,
      "metadata": {
        "colab": {
          "base_uri": "https://localhost:8080/",
          "height": 175
        },
        "id": "rqi6UlPxI12E",
        "outputId": "586fcac3-7257-4141-af0d-981f3f941c1b"
      },
      "outputs": [],
      "source": [
        "frame = pd.DataFrame(np.random.randn(4, 3), columns=list('bde'),\n",
        "                     index=['Utah', 'Ohio', 'Texas', 'Oregon'])\n",
        "frame\n",
        "np.abs(frame)"
      ]
    },
    {
      "cell_type": "code",
      "execution_count": null,
      "metadata": {
        "colab": {
          "base_uri": "https://localhost:8080/"
        },
        "id": "--bIqJZlI12E",
        "outputId": "9d2fd683-674f-4b53-9015-2f7c52ecc2b7"
      },
      "outputs": [],
      "source": [
        "f = lambda x: x.max() - x.min()\n",
        "frame.apply(f)"
      ]
    },
    {
      "cell_type": "code",
      "execution_count": null,
      "metadata": {
        "colab": {
          "base_uri": "https://localhost:8080/"
        },
        "id": "9LX0lGOpI12E",
        "outputId": "4b0f523f-440d-4480-b3f6-2b7677b5afde"
      },
      "outputs": [],
      "source": [
        "frame.apply(f, axis='columns')"
      ]
    },
    {
      "cell_type": "code",
      "execution_count": null,
      "metadata": {
        "colab": {
          "base_uri": "https://localhost:8080/",
          "height": 112
        },
        "id": "5JzbUgaKI12E",
        "outputId": "ff95df5a-758b-4dbd-ecd2-69118dbce880"
      },
      "outputs": [],
      "source": [
        "def f(x):\n",
        "    return pd.Series([x.min(), x.max()], index=['min', 'max'])\n",
        "frame.apply(f)"
      ]
    },
    {
      "cell_type": "markdown",
      "metadata": {
        "id": "Sj8dIJaCI12E"
      },
      "source": [
        "#### 정렬과 랭킹 매기기"
      ]
    },
    {
      "cell_type": "code",
      "execution_count": null,
      "metadata": {
        "colab": {
          "base_uri": "https://localhost:8080/"
        },
        "id": "cILc7SXWI12F",
        "outputId": "dce3c4ac-10f3-4a42-d0d3-e040b9aa1ee7"
      },
      "outputs": [],
      "source": [
        "obj = pd.Series(range(4), index=['d', 'a', 'b', 'c'])\n",
        "obj.sort_index()"
      ]
    },
    {
      "cell_type": "code",
      "execution_count": null,
      "metadata": {
        "colab": {
          "base_uri": "https://localhost:8080/",
          "height": 112
        },
        "id": "I8b6Sdo0I12F",
        "outputId": "16b282d9-41d4-46cb-bb68-e42f2839f26b"
      },
      "outputs": [],
      "source": [
        "frame = pd.DataFrame(np.arange(8).reshape((2, 4)),\n",
        "                     index=['three', 'one'],\n",
        "                     columns=['d', 'a', 'b', 'c'])\n",
        "frame.sort_index()\n",
        "frame.sort_index(axis=1)"
      ]
    },
    {
      "cell_type": "code",
      "execution_count": null,
      "metadata": {
        "colab": {
          "base_uri": "https://localhost:8080/",
          "height": 112
        },
        "id": "4WKq7_6SI12F",
        "outputId": "e975ee78-4442-4d88-ae23-eeffc05bb2b3"
      },
      "outputs": [],
      "source": [
        "frame.sort_index(axis=1, ascending=False)"
      ]
    },
    {
      "cell_type": "code",
      "execution_count": null,
      "metadata": {
        "colab": {
          "base_uri": "https://localhost:8080/",
          "height": 175
        },
        "id": "J7PWxo4MI12F",
        "outputId": "7c2d74ac-953f-4ac1-e085-f53dac220ffb"
      },
      "outputs": [],
      "source": [
        "frame = pd.DataFrame({'b': [4, 7, -3, 2], 'a': [0, 1, 0, 1]})\n",
        "frame\n",
        "frame.sort_values(by='b')"
      ]
    },
    {
      "cell_type": "code",
      "execution_count": null,
      "metadata": {
        "colab": {
          "base_uri": "https://localhost:8080/",
          "height": 175
        },
        "id": "ND7mC6qKI12F",
        "outputId": "4ec96dfe-4540-4b6a-9ef2-258f3fd6005c"
      },
      "outputs": [],
      "source": [
        "frame.sort_values(by=['a', 'b'])"
      ]
    },
    {
      "cell_type": "markdown",
      "metadata": {
        "id": "mfdUzKhQI12F"
      },
      "source": [
        "#### 유니크, 빈도 세기"
      ]
    },
    {
      "cell_type": "code",
      "execution_count": null,
      "metadata": {
        "id": "CMU_AIG4I12F"
      },
      "outputs": [],
      "source": [
        "obj = pd.Series(['c', 'a', 'd', 'a', 'a', 'b', 'b', 'c', 'c'])"
      ]
    },
    {
      "cell_type": "code",
      "execution_count": null,
      "metadata": {
        "colab": {
          "base_uri": "https://localhost:8080/"
        },
        "id": "c6cuu_AYI12F",
        "outputId": "3c6201ee-075c-494a-b6db-a48b066bbcd9"
      },
      "outputs": [],
      "source": [
        "uniques = obj.unique()\n",
        "uniques"
      ]
    },
    {
      "cell_type": "code",
      "execution_count": null,
      "metadata": {
        "colab": {
          "base_uri": "https://localhost:8080/"
        },
        "id": "O0foWYeKI12F",
        "outputId": "4e87355b-6198-49dd-b7be-e9d1a2b2c82a"
      },
      "outputs": [],
      "source": [
        "obj.value_counts()"
      ]
    },
    {
      "cell_type": "code",
      "execution_count": null,
      "metadata": {
        "colab": {
          "base_uri": "https://localhost:8080/"
        },
        "id": "ywVVaIdOI12F",
        "outputId": "a346bad0-a34a-4551-f232-3a6b3d32b988"
      },
      "outputs": [],
      "source": [
        "pd.value_counts(obj.values, sort=False)"
      ]
    },
    {
      "cell_type": "markdown",
      "metadata": {
        "id": "zmpoxMiqI12H"
      },
      "source": [
        "### US Baby Names 1880–2010"
      ]
    },
    {
      "cell_type": "code",
      "execution_count": null,
      "metadata": {
        "colab": {
          "base_uri": "https://localhost:8080/",
          "height": 423
        },
        "id": "6HiCVqpENJpu",
        "outputId": "4a3543e4-578c-463e-df92-a6cf589d44ba"
      },
      "outputs": [],
      "source": [
        "url = 'https://raw.githubusercontent.com/guipsamora/pandas_exercises/master/06_Stats/US_Baby_Names/US_Baby_Names_right.csv'\n",
        "names = pd.read_csv(url)"
      ]
    },
    {
      "cell_type": "code",
      "execution_count": null,
      "metadata": {
        "colab": {
          "base_uri": "https://localhost:8080/",
          "height": 422
        },
        "id": "hZcZsLL3I12I",
        "outputId": "ff9d4c3d-0eec-4c97-e5e7-ed9f399fc9c5"
      },
      "outputs": [],
      "source": [
        "total_births = names.pivot_table('births', index='year',\n",
        "                                 columns='sex', aggfunc=sum)\n",
        "total_births.tail()\n",
        "total_births.plot(title='Total births by sex and year')"
      ]
    },
    {
      "cell_type": "code",
      "execution_count": null,
      "metadata": {
        "id": "lgY2ZQl4I12I"
      },
      "outputs": [],
      "source": [
        "def add_prop(group):\n",
        "    group['prop'] = group.births / group.births.sum()\n",
        "    return group\n",
        "names = names.groupby(['year', 'sex']).apply(add_prop)"
      ]
    },
    {
      "cell_type": "code",
      "execution_count": null,
      "metadata": {
        "colab": {
          "base_uri": "https://localhost:8080/",
          "height": 423
        },
        "id": "KoS9trcLI12J",
        "outputId": "63ea3b6e-dd6c-49fa-f992-4fc4ccea593f"
      },
      "outputs": [],
      "source": [
        "names"
      ]
    },
    {
      "cell_type": "code",
      "execution_count": null,
      "metadata": {
        "colab": {
          "base_uri": "https://localhost:8080/"
        },
        "id": "Mr2wBm93I12J",
        "outputId": "c0453ba5-cd3c-4736-a218-47fa51ea13d2"
      },
      "outputs": [],
      "source": [
        "names.groupby(['year', 'sex']).prop.sum()"
      ]
    },
    {
      "cell_type": "code",
      "execution_count": null,
      "metadata": {
        "id": "S2hdIMNPI12J"
      },
      "outputs": [],
      "source": [
        "def get_top1000(group):\n",
        "    return group.sort_values(by='births', ascending=False)[:1000]\n",
        "grouped = names.groupby(['year', 'sex'])\n",
        "top1000 = grouped.apply(get_top1000)\n",
        "# Drop the group index, not needed\n",
        "top1000.reset_index(inplace=True, drop=True)"
      ]
    },
    {
      "cell_type": "code",
      "execution_count": null,
      "metadata": {
        "colab": {
          "base_uri": "https://localhost:8080/",
          "height": 423
        },
        "id": "YRf1ZNEqI12J",
        "outputId": "729ad1a6-022e-4f2e-f34f-d700edb5678b"
      },
      "outputs": [],
      "source": [
        "top1000"
      ]
    },
    {
      "cell_type": "markdown",
      "metadata": {
        "id": "m2A3iIXpI12J"
      },
      "source": [
        "#### 이름 트렌드 분석하기"
      ]
    },
    {
      "cell_type": "code",
      "execution_count": null,
      "metadata": {
        "id": "tcDl4ql6I12J"
      },
      "outputs": [],
      "source": [
        "boys = top1000[top1000.sex == 'M']\n",
        "girls = top1000[top1000.sex == 'F']"
      ]
    },
    {
      "cell_type": "code",
      "execution_count": null,
      "metadata": {
        "id": "kfBw99O5I12J"
      },
      "outputs": [],
      "source": [
        "total_births = top1000.pivot_table('births', index='year',\n",
        "                                   columns='name',\n",
        "                                   aggfunc=sum)"
      ]
    },
    {
      "cell_type": "code",
      "execution_count": null,
      "metadata": {
        "colab": {
          "base_uri": "https://localhost:8080/",
          "height": 812
        },
        "id": "2tH0pUAjI12J",
        "outputId": "01eba5b8-84fe-4ff0-b1a0-18e0d80d22f5"
      },
      "outputs": [],
      "source": [
        "total_births.info()\n",
        "subset = total_births[['John', 'Harry', 'Mary', 'Marilyn']]\n",
        "subset.plot(subplots=True, figsize=(12, 10), grid=False,\n",
        "            title=\"Number of births per year\")"
      ]
    },
    {
      "cell_type": "markdown",
      "metadata": {
        "id": "j3uznWdlI12J"
      },
      "source": [
        "#### 이름 다양성 측정하기"
      ]
    },
    {
      "cell_type": "code",
      "execution_count": null,
      "metadata": {
        "colab": {
          "base_uri": "https://localhost:8080/",
          "height": 54
        },
        "id": "ExgM7YnxI12K",
        "outputId": "8664e7a8-f1dc-4c14-b320-fb3af52c0f4b"
      },
      "outputs": [],
      "source": [
        "import matplotlib.pyplot as plt\n",
        "import numpy as np\n",
        "plt.figure()"
      ]
    },
    {
      "cell_type": "code",
      "execution_count": null,
      "metadata": {
        "colab": {
          "base_uri": "https://localhost:8080/",
          "height": 422
        },
        "id": "Hf9QR_onI12K",
        "outputId": "5860e2de-8c0f-4e0d-e83b-50850ee125b3"
      },
      "outputs": [],
      "source": [
        "table = top1000.pivot_table('prop', index='year',\n",
        "                            columns='sex', aggfunc=sum)\n",
        "table.plot(title='Sum of table1000.prop by year and sex',\n",
        "           yticks=np.linspace(0, 1.2, 13), xticks=range(1880, 2020, 10))"
      ]
    },
    {
      "cell_type": "code",
      "execution_count": null,
      "metadata": {
        "colab": {
          "base_uri": "https://localhost:8080/",
          "height": 423
        },
        "id": "2MYeOqWnI12K",
        "outputId": "57b8b4ee-035c-4dc4-9239-e2cf870eef14"
      },
      "outputs": [],
      "source": [
        "df = boys[boys.year == 2010]\n",
        "df"
      ]
    },
    {
      "cell_type": "code",
      "execution_count": null,
      "metadata": {
        "colab": {
          "base_uri": "https://localhost:8080/"
        },
        "id": "CaYt9AqlI12K",
        "outputId": "8e62e978-8bec-44d7-eddf-57f4e07bccfd"
      },
      "outputs": [],
      "source": [
        "prop_cumsum = df.sort_values(by='prop', ascending=False).prop.cumsum()\n",
        "prop_cumsum[:10]\n",
        "prop_cumsum.values.searchsorted(0.5)"
      ]
    },
    {
      "cell_type": "code",
      "execution_count": null,
      "metadata": {
        "colab": {
          "base_uri": "https://localhost:8080/"
        },
        "id": "qJN6e2ujI12K",
        "outputId": "c6f02275-77b3-45f1-ec1d-2a2fc49efd2c"
      },
      "outputs": [],
      "source": [
        "df = boys[boys.year == 1900]\n",
        "in1900 = df.sort_values(by='prop', ascending=False).prop.cumsum()\n",
        "in1900.values.searchsorted(0.5) + 1"
      ]
    },
    {
      "cell_type": "code",
      "execution_count": null,
      "metadata": {
        "id": "hY2oPDmJI12K"
      },
      "outputs": [],
      "source": [
        "def get_quantile_count(group, q=0.5):\n",
        "    group = group.sort_values(by='prop', ascending=False)\n",
        "    return group.prop.cumsum().values.searchsorted(q) + 1\n",
        "\n",
        "diversity = top1000.groupby(['year', 'sex']).apply(get_quantile_count)\n",
        "diversity = diversity.unstack('sex')"
      ]
    },
    {
      "cell_type": "code",
      "execution_count": null,
      "metadata": {
        "colab": {
          "base_uri": "https://localhost:8080/",
          "height": 35
        },
        "id": "YCKgxgWgI12K",
        "outputId": "dcb962df-51c8-4708-b2ae-b914b54fa1fe"
      },
      "outputs": [],
      "source": [
        "fig = plt.figure()"
      ]
    },
    {
      "cell_type": "code",
      "execution_count": null,
      "metadata": {
        "colab": {
          "base_uri": "https://localhost:8080/",
          "height": 422
        },
        "id": "wLyoXp8SI12K",
        "outputId": "d94e3dc2-f0bb-414e-e209-997f5bd197cf"
      },
      "outputs": [],
      "source": [
        "diversity.head()\n",
        "diversity.plot(title=\"Number of popular names in top 50%\")"
      ]
    },
    {
      "cell_type": "markdown",
      "metadata": {
        "id": "uMOj6LGDI12K"
      },
      "source": [
        "#### 끝 글자 혁명"
      ]
    },
    {
      "cell_type": "code",
      "execution_count": null,
      "metadata": {
        "id": "C0QbDcvYI12K"
      },
      "outputs": [],
      "source": [
        "# extract last letter from name column\n",
        "get_last_letter = lambda x: x[-1]\n",
        "last_letters = names.name.map(get_last_letter)\n",
        "last_letters.name = 'last_letter'\n",
        "\n",
        "table = names.pivot_table('births', index=last_letters,\n",
        "                          columns=['sex', 'year'], aggfunc=sum)"
      ]
    },
    {
      "cell_type": "code",
      "execution_count": null,
      "metadata": {
        "colab": {
          "base_uri": "https://localhost:8080/",
          "height": 269
        },
        "id": "JWflIualI12K",
        "outputId": "8c4a3da0-e8ff-472d-ed30-9c5417ee215c"
      },
      "outputs": [],
      "source": [
        "subtable = table.reindex(columns=[1910, 1960, 2010], level='year')\n",
        "subtable.head()"
      ]
    },
    {
      "cell_type": "code",
      "execution_count": null,
      "metadata": {
        "colab": {
          "base_uri": "https://localhost:8080/",
          "height": 486
        },
        "id": "_CihWDr4I12L",
        "outputId": "73db0725-f071-4430-b17b-3a23dcc1442e"
      },
      "outputs": [],
      "source": [
        "subtable.sum()\n",
        "letter_prop = subtable / subtable.sum()\n",
        "letter_prop"
      ]
    },
    {
      "cell_type": "code",
      "execution_count": null,
      "metadata": {
        "colab": {
          "base_uri": "https://localhost:8080/",
          "height": 532
        },
        "id": "GCOFGFl_I12L",
        "outputId": "53039c81-96e0-469a-9c60-722720ef34b0"
      },
      "outputs": [],
      "source": [
        "import matplotlib.pyplot as plt\n",
        "\n",
        "fig, axes = plt.subplots(2, 1, figsize=(10, 8))\n",
        "letter_prop['M'].plot(kind='bar', rot=0, ax=axes[0], title='Male')\n",
        "letter_prop['F'].plot(kind='bar', rot=0, ax=axes[1], title='Female',\n",
        "                      legend=False)"
      ]
    },
    {
      "cell_type": "code",
      "execution_count": null,
      "metadata": {
        "colab": {
          "base_uri": "https://localhost:8080/",
          "height": 35
        },
        "id": "s4r9ndolI12L",
        "outputId": "965b683f-9bc1-442a-b6aa-cd715e328c19"
      },
      "outputs": [],
      "source": [
        "plt.subplots_adjust(hspace=0.25)"
      ]
    },
    {
      "cell_type": "code",
      "execution_count": null,
      "metadata": {
        "colab": {
          "base_uri": "https://localhost:8080/",
          "height": 238
        },
        "id": "67Om40ycI12L",
        "outputId": "fbb8484a-021f-45d2-8fd8-d8ae545bb8a8"
      },
      "outputs": [],
      "source": [
        "letter_prop = table / table.sum()\n",
        "dny_ts = letter_prop.loc[['d', 'n', 'y'], 'M'].T\n",
        "dny_ts.head()"
      ]
    },
    {
      "cell_type": "code",
      "execution_count": null,
      "metadata": {
        "id": "nrY3LvfRI12L"
      },
      "outputs": [],
      "source": [
        "plt.close('all')"
      ]
    },
    {
      "cell_type": "code",
      "execution_count": null,
      "metadata": {
        "colab": {
          "base_uri": "https://localhost:8080/",
          "height": 34
        },
        "id": "6WFLsG-MI12L",
        "outputId": "6ab3e923-72c0-49e6-bc04-a16d4a0308b7"
      },
      "outputs": [],
      "source": [
        "fig = plt.figure()"
      ]
    },
    {
      "cell_type": "code",
      "execution_count": null,
      "metadata": {
        "colab": {
          "base_uri": "https://localhost:8080/",
          "height": 406
        },
        "id": "PLfAzEKiI12L",
        "outputId": "7b4dc292-d731-44b0-b41b-f2f72102cd36"
      },
      "outputs": [],
      "source": [
        "dny_ts.plot()"
      ]
    },
    {
      "cell_type": "markdown",
      "metadata": {
        "id": "3uL2-QXyI12L"
      },
      "source": [
        "#### 남자 이름에서 여자 이름으로"
      ]
    },
    {
      "cell_type": "code",
      "execution_count": null,
      "metadata": {
        "colab": {
          "base_uri": "https://localhost:8080/"
        },
        "id": "0ort_x60I12L",
        "outputId": "60c9c6bd-fb36-4897-9086-d0e5e8da10b3"
      },
      "outputs": [],
      "source": [
        "all_names = pd.Series(top1000.name.unique())\n",
        "lesley_like = all_names[all_names.str.lower().str.contains('lesl')]\n",
        "lesley_like"
      ]
    },
    {
      "cell_type": "code",
      "execution_count": null,
      "metadata": {
        "colab": {
          "base_uri": "https://localhost:8080/"
        },
        "id": "DF-rleaeI12M",
        "outputId": "e857c908-079c-4578-c40d-b5c517bb9d30"
      },
      "outputs": [],
      "source": [
        "filtered = top1000[top1000.name.isin(lesley_like)]\n",
        "filtered.groupby('name').births.sum()"
      ]
    },
    {
      "cell_type": "code",
      "execution_count": null,
      "metadata": {
        "colab": {
          "base_uri": "https://localhost:8080/",
          "height": 238
        },
        "id": "MsRH8IG-I12M",
        "outputId": "19956492-c768-4630-aecd-4aeb47468682"
      },
      "outputs": [],
      "source": [
        "table = filtered.pivot_table('births', index='year',\n",
        "                             columns='sex', aggfunc='sum')\n",
        "table = table.div(table.sum(1), axis=0)\n",
        "table.tail()"
      ]
    },
    {
      "cell_type": "code",
      "execution_count": null,
      "metadata": {
        "colab": {
          "base_uri": "https://localhost:8080/",
          "height": 35
        },
        "id": "-syDAQa9I12M",
        "outputId": "6ca2bd19-daba-41a4-b663-b04103745678"
      },
      "outputs": [],
      "source": [
        "fig = plt.figure()"
      ]
    },
    {
      "cell_type": "code",
      "execution_count": null,
      "metadata": {
        "colab": {
          "base_uri": "https://localhost:8080/",
          "height": 406
        },
        "id": "6m9tI7AEI12M",
        "outputId": "264305b3-9ae0-4e10-93d4-d85667611df9"
      },
      "outputs": [],
      "source": [
        "table.plot(style={'M': 'k-', 'F': 'k--'})"
      ]
    }
  ],
  "metadata": {
    "colab": {
      "provenance": []
    },
    "kernelspec": {
      "display_name": "Python 3 (ipykernel)",
      "language": "python",
      "name": "python3"
    },
    "language_info": {
      "codemirror_mode": {
        "name": "ipython",
        "version": 3
      },
      "file_extension": ".py",
      "mimetype": "text/x-python",
      "name": "python",
      "nbconvert_exporter": "python",
      "pygments_lexer": "ipython3",
      "version": "3.11.4"
    }
  },
  "nbformat": 4,
  "nbformat_minor": 0
}
