{
  "cells": [
    {
      "cell_type": "markdown",
      "metadata": {
        "id": "5ZWRlwJkThBc"
      },
      "source": [
        "![pandas](https://www.hanbit.co.kr/data/books/B6417848794_l.jpg)\n",
        "\n",
        "https://wikidocs.net/32829"
      ]
    },
    {
      "cell_type": "markdown",
      "metadata": {
        "id": "O01pJH-rI112"
      },
      "source": [
        "### 0. 판다스 시작하기"
      ]
    },
    {
      "cell_type": "code",
      "execution_count": null,
      "metadata": {
        "id": "LNnMssFzI112"
      },
      "outputs": [],
      "source": [
        "import pandas as pd\n",
        "import numpy as np\n",
        "import matplotlib.pyplot as plt"
      ]
    },
    {
      "cell_type": "markdown",
      "metadata": {
        "id": "P2wsB5xlI114"
      },
      "source": [
        "### 1. pandas 데이터 구조 소개"
      ]
    },
    {
      "cell_type": "markdown",
      "metadata": {
        "id": "zXZYDW7pI114"
      },
      "source": [
        "#### Series"
      ]
    },
    {
      "cell_type": "code",
      "execution_count": null,
      "metadata": {
        "colab": {
          "base_uri": "https://localhost:8080/"
        },
        "id": "HAig6hHbI115",
        "outputId": "80f00bed-d36f-42fa-8de6-57954c06c237"
      },
      "outputs": [],
      "source": [
        "obj = pd.Series([4, 7, -5, 3])\n",
        "obj"
      ]
    },
    {
      "cell_type": "code",
      "execution_count": null,
      "metadata": {
        "colab": {
          "base_uri": "https://localhost:8080/"
        },
        "id": "7oc-StXbI115",
        "outputId": "0bb9a609-4eb8-4a6a-eff6-b9c843104ab9"
      },
      "outputs": [],
      "source": [
        "# obj.values\n",
        "obj.index  #  range(4) 랑 같다. range가 들어가 있었구나!"
      ]
    },
    {
      "cell_type": "code",
      "execution_count": null,
      "metadata": {
        "colab": {
          "base_uri": "https://localhost:8080/"
        },
        "id": "UyvJ95CJI116",
        "outputId": "3077d3f6-cdac-4b44-9137-8a65fec66c02"
      },
      "outputs": [],
      "source": [
        "obj2 = pd.Series([4, 7, -5, 3], index=['d', 'b', 'a', 'c'])\n",
        "obj2\n",
        "# obj2.index 를 유심히 보라. 1. 문자열도 들어갈 수가 있다. 2. 리스트로 되어 있다.\n"
      ]
    },
    {
      "cell_type": "code",
      "execution_count": null,
      "metadata": {
        "colab": {
          "base_uri": "https://localhost:8080/"
        },
        "id": "gLNNNYO1I117",
        "outputId": "bf0a88be-6600-4c4a-d9f7-6544e5a2097d"
      },
      "outputs": [],
      "source": [
        "obj2[['c', 'a', 'd', 'd']] # 리스트가 인덱스 선택에 활용됐음을 확인해라"
      ]
    },
    {
      "cell_type": "markdown",
      "metadata": {
        "id": "21UpSPlyI117"
      },
      "source": [
        "#### DataFrame"
      ]
    },
    {
      "cell_type": "code",
      "execution_count": null,
      "metadata": {
        "id": "Imea-GJeI117"
      },
      "outputs": [],
      "source": [
        "# 같은 길이의 리스트로 만들어진 딕셔너리를 이용하면 Series와 DataFrame을 생성할 수 있다.\n",
        "data = {'state': ['Ohio', 'Ohio', 'Ohio', 'Nevada', 'Nevada', 'Nevada'],\n",
        "        'Year': [2000, 2001, 2002, 2001, 2002, 2003],\n",
        "        'pop': [1.5, 1.7, 3.6, 2.4, 2.9, 3.2]}\n",
        "frame = pd.DataFrame(data)\n",
        "frame"
      ]
    },
    {
      "cell_type": "code",
      "execution_count": null,
      "metadata": {
        "colab": {
          "base_uri": "https://localhost:8080/",
          "height": 238
        },
        "id": "NGX_Mz_EI117",
        "outputId": "653d36bf-6a15-4246-835d-761e3514023e"
      },
      "outputs": [],
      "source": []
    },
    {
      "cell_type": "code",
      "execution_count": null,
      "metadata": {
        "colab": {
          "base_uri": "https://localhost:8080/",
          "height": 143
        },
        "id": "CejzI5x4I118",
        "outputId": "21e71c33-2dfc-408b-9d9e-677feb65d214"
      },
      "outputs": [],
      "source": [
        "frame.tail(3)"
      ]
    },
    {
      "cell_type": "code",
      "execution_count": null,
      "metadata": {
        "colab": {
          "base_uri": "https://localhost:8080/",
          "height": 238
        },
        "id": "7jQFFVhrI118",
        "outputId": "1873c1ab-ebc4-4387-adaa-e6aafe2bc6e1"
      },
      "outputs": [],
      "source": [
        "# 만약 원하는 순서대로 columns를 지정하고 싶다면 columns를 지정해주면 된다.\n",
        "pd.DataFrame(data, columns=['Year', 'state', 'pop'])"
      ]
    },
    {
      "cell_type": "code",
      "execution_count": null,
      "metadata": {
        "colab": {
          "base_uri": "https://localhost:8080/",
          "height": 238
        },
        "id": "SruD4A75I118",
        "outputId": "b2f23fe8-01e4-45a8-b1f0-a97b14a643ef"
      },
      "outputs": [],
      "source": [
        "# index 값을 숫자로만 넣을 수 있다는 편견을 버리자.\n",
        "# 없는 Key 값이 있으면 새로 만들고 값이 없으면 NaN으로 채운다.\n",
        "\n",
        "frame2 = pd.DataFrame(data, columns=['Year', 'state', 'pop', 'debt'],\n",
        "                      index=['one', 'two', 'three', 'four',\n",
        "                             'five', 'six'])\n",
        "frame2"
      ]
    },
    {
      "cell_type": "code",
      "execution_count": null,
      "metadata": {
        "colab": {
          "base_uri": "https://localhost:8080/"
        },
        "id": "0QbNc990I119",
        "outputId": "3e3b3051-52c3-448c-99ca-56b9912d0bf4"
      },
      "outputs": [],
      "source": [
        "frame2.columns"
      ]
    },
    {
      "cell_type": "code",
      "execution_count": null,
      "metadata": {
        "colab": {
          "base_uri": "https://localhost:8080/"
        },
        "id": "HxvGhebZI119",
        "outputId": "aa7557c8-801e-4476-c30b-b9023192fa5d"
      },
      "outputs": [],
      "source": [
        "frame2['state']\n",
        "# frame2.Year  # 주석 없애고 이 코드도 실행시켜 보자."
      ]
    },
    {
      "cell_type": "code",
      "execution_count": null,
      "metadata": {
        "colab": {
          "base_uri": "https://localhost:8080/"
        },
        "id": "ouGbimTsI119",
        "outputId": "16bb779d-2fed-4764-96cf-6a381cb2e092"
      },
      "outputs": [],
      "source": [
        "# loc 의 사용 방법을 주목해라. 메소드를 사용하는 것이 아니라 속성처럼 사용한다.\n",
        "# loc 는 index를 기준으로 값을 찾는다. 그래서 index가 없으면 에러가 난다.\n",
        "frame2.loc['three']\n"
      ]
    },
    {
      "cell_type": "code",
      "execution_count": null,
      "metadata": {
        "colab": {
          "base_uri": "https://localhost:8080/",
          "height": 238
        },
        "id": "XGxro4RdI119",
        "outputId": "0df3dc2a-c2fb-480f-80e7-766ff64294e2"
      },
      "outputs": [],
      "source": [
        "# 냅다 값을 넣으면 해당 컬럼에 모든 값이 그 값으로 채워진다.\n",
        "frame2['debt'] = 16.5\n",
        "frame2"
      ]
    },
    {
      "cell_type": "code",
      "execution_count": null,
      "metadata": {
        "colab": {
          "base_uri": "https://localhost:8080/",
          "height": 238
        },
        "id": "qApavndkI11-",
        "outputId": "2efc6869-e401-4cb8-c65d-ccdf4d0b1d1c"
      },
      "outputs": [],
      "source": [
        "# 리스트나 배열을 넣으면 전체에 대입한다. \n",
        "frame2['debt'] = np.arange(6.)\n",
        "frame2"
      ]
    },
    {
      "cell_type": "code",
      "execution_count": null,
      "metadata": {
        "colab": {
          "base_uri": "https://localhost:8080/",
          "height": 238
        },
        "id": "NFlEuDDCI11-",
        "outputId": "c964454a-3dcb-462b-e84d-eeb6c87277b7"
      },
      "outputs": [],
      "source": [
        "# Series를 넣으면 index에 맞춰서 대입한다. 없는 index는 NaN으로 채운다.\n",
        "val = pd.Series([-1.2, -1.5, -1.7], index=['two', 'four', 'five'])\n",
        "frame2['debt'] = val\n",
        "frame2"
      ]
    },
    {
      "cell_type": "code",
      "execution_count": null,
      "metadata": {
        "colab": {
          "base_uri": "https://localhost:8080/",
          "height": 238
        },
        "id": "0dGeSPLOI11-",
        "outputId": "53ec18f8-632e-4ebf-cfdc-e7b41ab44c75"
      },
      "outputs": [],
      "source": [
        "# 조건 연산을 통해서 값을 집어 넣는 경우\n",
        "frame2['eastern'] = frame2.state == 'Ohio'\n",
        "frame2"
      ]
    },
    {
      "cell_type": "code",
      "execution_count": null,
      "metadata": {
        "colab": {
          "base_uri": "https://localhost:8080/"
        },
        "id": "5MacIFW2I11-",
        "outputId": "b953db0e-45b4-458f-b1e7-8435cae15255"
      },
      "outputs": [],
      "source": [
        "del frame2['eastern']\n",
        "frame2.columns"
      ]
    },
    {
      "cell_type": "code",
      "execution_count": null,
      "metadata": {
        "id": "OtOeN2SII11-"
      },
      "outputs": [],
      "source": [
        "pop = {'Nevada': {2001: 2.4, 2002: 2.9},\n",
        "       'Ohio': {2000: 1.5, 2001: 1.7, 2002: 3.6}}"
      ]
    },
    {
      "cell_type": "code",
      "execution_count": null,
      "metadata": {
        "colab": {
          "base_uri": "https://localhost:8080/",
          "height": 143
        },
        "id": "D7CXv_xdI11-",
        "outputId": "ae3f739a-c64e-4eb0-c03e-aa0dbe5b7f00"
      },
      "outputs": [],
      "source": [
        "frame3 = pd.DataFrame(pop)\n",
        "frame3"
      ]
    },
    {
      "cell_type": "code",
      "execution_count": null,
      "metadata": {
        "colab": {
          "base_uri": "https://localhost:8080/",
          "height": 112
        },
        "id": "wytPFdJvI11_",
        "outputId": "6ffa55a0-4ffa-49dc-a274-31162c2a3793"
      },
      "outputs": [],
      "source": [
        "# transpose 로 행과 열을 바꿀 수 있다.\n",
        "frame3.T"
      ]
    },
    {
      "cell_type": "code",
      "execution_count": null,
      "metadata": {
        "colab": {
          "base_uri": "https://localhost:8080/",
          "height": 143
        },
        "id": "POqh5GXYI11_",
        "outputId": "718d48ec-94af-4bf5-cc04-574edb58c667"
      },
      "outputs": [],
      "source": [
        "# index가 없는 값으로 만들면, NaN으로 채워진다. \n",
        "# 데이터에 다른 길이를 추가 했을 때와는 다른 상황이다.\n",
        "pd.DataFrame(pop, index=[2001, 2002, 2003])"
      ]
    },
    {
      "cell_type": "code",
      "execution_count": null,
      "metadata": {
        "colab": {
          "base_uri": "https://localhost:8080/",
          "height": 112
        },
        "id": "n3jvxxdJI11_",
        "outputId": "68f6d389-138d-4997-ecfd-b0720fcc15c1"
      },
      "outputs": [],
      "source": [
        "# 리스트 슬라이싱 하듯이 \n",
        "pdata = {'Ohio': frame3['Ohio'][:-1],\n",
        "         'Nevada': frame3['Nevada'][:2]}\n",
        "pd.DataFrame(pdata)"
      ]
    },
    {
      "cell_type": "code",
      "execution_count": null,
      "metadata": {
        "colab": {
          "base_uri": "https://localhost:8080/",
          "height": 175
        },
        "id": "JSfVdpayI11_",
        "outputId": "729d458c-6880-4177-bb4e-d7c9797c7acd"
      },
      "outputs": [],
      "source": [
        "# index와 columns에 이름을 붙일 수 있다.\n",
        "\n",
        "frame3.index.name = 'year'\n",
        "frame3.columns.name = 'state'\n",
        "frame3"
      ]
    },
    {
      "cell_type": "code",
      "execution_count": null,
      "metadata": {
        "colab": {
          "base_uri": "https://localhost:8080/"
        },
        "id": "jwoEt9jeI11_",
        "outputId": "71218297-d3e2-4a74-bf3b-9a5b8194d763"
      },
      "outputs": [],
      "source": [
        "frame3.values"
      ]
    },
    {
      "cell_type": "code",
      "execution_count": null,
      "metadata": {
        "colab": {
          "base_uri": "https://localhost:8080/"
        },
        "id": "iYvdPGsSI11_",
        "outputId": "4722e58b-d30b-446b-fa17-784bb5de8880"
      },
      "outputs": [],
      "source": [
        "frame2.values"
      ]
    },
    {
      "cell_type": "markdown",
      "metadata": {
        "id": "k4xLPl1oI11_"
      },
      "source": [
        "#### 인덱스(Index)"
      ]
    },
    {
      "cell_type": "code",
      "execution_count": null,
      "metadata": {
        "colab": {
          "base_uri": "https://localhost:8080/"
        },
        "id": "4eyReYbdI11_",
        "outputId": "a109ae6a-38e0-408f-d76a-caf2d7adf986"
      },
      "outputs": [],
      "source": [
        "# 사실 index도 객체이다.\n",
        "obj = pd.Series(range(3), index=['a', 'b', 'c'])\n",
        "idx = obj.index\n",
        "idx\n",
        "# index 이름을 중복해서 쓸 수 있을까?"
      ]
    },
    {
      "cell_type": "code",
      "execution_count": null,
      "metadata": {
        "colab": {
          "base_uri": "https://localhost:8080/"
        },
        "id": "7NjJKtlDI12A",
        "outputId": "e328fb31-c346-4bc2-8ac1-d11b70dadc85"
      },
      "outputs": [],
      "source": [
        "idx[1:]"
      ]
    },
    {
      "cell_type": "code",
      "execution_count": null,
      "metadata": {},
      "outputs": [],
      "source": [
        "idx[1] = 'd' \n",
        "# TypeError 발생. 에러 메시지에 주목하자."
      ]
    },
    {
      "cell_type": "code",
      "execution_count": null,
      "metadata": {
        "colab": {
          "base_uri": "https://localhost:8080/"
        },
        "id": "S7c6VvOmI12A",
        "outputId": "7e6e60a6-4d69-4403-f851-5cde032168ad"
      },
      "outputs": [],
      "source": [
        "# pd.Index를 이용하면 바로 index를 만들 수 있다.\n",
        "labels = pd.Index(np.arange(3))\n",
        "# labels = pd.Index(list(range(3)))\n",
        "labels"
      ]
    },
    {
      "cell_type": "code",
      "execution_count": null,
      "metadata": {
        "colab": {
          "base_uri": "https://localhost:8080/"
        },
        "id": "MaMx_9jMI12A",
        "outputId": "2afdcb3d-a7f3-4329-e09b-f37ae1a28476"
      },
      "outputs": [],
      "source": [
        "obj2 = pd.Series([1.5, -2.5, 0], index=labels)\n",
        "obj2"
      ]
    },
    {
      "cell_type": "code",
      "execution_count": null,
      "metadata": {
        "colab": {
          "base_uri": "https://localhost:8080/"
        },
        "id": "TLinLH22I12A",
        "outputId": "a519345c-734b-4eb2-8b99-b6d342e507aa"
      },
      "outputs": [],
      "source": [
        "obj2.index is labels"
      ]
    },
    {
      "cell_type": "markdown",
      "metadata": {
        "id": "IRSXuhUcI12A"
      },
      "source": [
        "### 2. 필수 기능들"
      ]
    },
    {
      "cell_type": "code",
      "execution_count": null,
      "metadata": {
        "colab": {
          "base_uri": "https://localhost:8080/",
          "height": 143
        },
        "id": "4WA0Ejp6I12B",
        "outputId": "6d73e485-aad2-4a6e-80c5-4778583db6d8"
      },
      "outputs": [],
      "source": [
        "frame = pd.DataFrame(np.arange(9).reshape((3, 3)),\n",
        "                     index=['a', 'c', 'd'],\n",
        "                     columns=['Ohio', 'Texas', 'California'])\n",
        "frame\n"
      ]
    },
    {
      "cell_type": "code",
      "execution_count": null,
      "metadata": {
        "colab": {
          "base_uri": "https://localhost:8080/",
          "height": 174
        },
        "id": "pTlqZwV8I12B",
        "outputId": "6cf44aff-7822-40cc-dc44-77de7b55b895"
      },
      "outputs": [],
      "source": [
        "# index는 mutable 하지 않았기 때문에, reindex 메소드를 사용해 줘야 한다.\n",
        "frame2 = frame.reindex(['a', 'b', 'c', 'd'])\n",
        "frame2"
      ]
    },
    {
      "cell_type": "code",
      "execution_count": null,
      "metadata": {
        "colab": {
          "base_uri": "https://localhost:8080/",
          "height": 143
        },
        "id": "QPKku-SsI12B",
        "outputId": "c96bacd4-abbd-4cf8-f3ea-1512832acc23"
      },
      "outputs": [],
      "source": [
        "states = ['Texas', 'Utah', 'California']\n",
        "frame.reindex(columns=states) # 사실 columns과 index는 같은 건데, 위치에 따라 이름만 다르다."
      ]
    },
    {
      "cell_type": "code",
      "execution_count": null,
      "metadata": {
        "colab": {
          "base_uri": "https://localhost:8080/",
          "height": 174
        },
        "id": "GGUi6tygI12B",
        "outputId": "d0dc6ab8-96bd-41dc-aa9a-9a355978b1ce"
      },
      "outputs": [],
      "source": [
        "data = pd.DataFrame(np.arange(16).reshape((4, 4)),\n",
        "                    index=['Ohio', 'Colorado', 'Utah', 'New York'],\n",
        "                    columns=['one', 'two', 'three', 'four'])\n",
        "data"
      ]
    },
    {
      "cell_type": "code",
      "execution_count": null,
      "metadata": {
        "colab": {
          "base_uri": "https://localhost:8080/",
          "height": 112
        },
        "id": "y-uigoIcI12C",
        "outputId": "533b4c63-15d7-4090-f5cf-eccbdeddf34d"
      },
      "outputs": [],
      "source": [
        "# drop은 index를 기준으로 값을 지운다.\n",
        "data.drop(['Colorado', 'Ohio'])"
      ]
    },
    {
      "cell_type": "code",
      "execution_count": null,
      "metadata": {
        "colab": {
          "base_uri": "https://localhost:8080/",
          "height": 174
        },
        "id": "yPPn33DLI12C",
        "outputId": "77ebe5a3-bbdf-4b67-9371-5dfe7875c065"
      },
      "outputs": [],
      "source": [
        "# column을 지우는 경우에는 axis=1을 넣어준다. 또는 columns를 넣어준다.\n",
        "data.drop('two', axis=1)\n",
        "data.drop(['two', 'four'], axis='columns')"
      ]
    },
    {
      "cell_type": "code",
      "execution_count": null,
      "metadata": {
        "colab": {
          "base_uri": "https://localhost:8080/",
          "height": 174
        },
        "id": "0MIo_i4bd8lc",
        "outputId": "917ecbbb-fd09-4190-d004-cf13303839da"
      },
      "outputs": [],
      "source": [
        "# inplace=True를 넣어주면 원본이 바뀐다. 다시 할당 말자!!\n",
        "data.drop('three',axis=1,inplace=True)\n",
        "data"
      ]
    },
    {
      "cell_type": "code",
      "execution_count": null,
      "metadata": {
        "colab": {
          "base_uri": "https://localhost:8080/"
        },
        "id": "mlxEbw-vI12C",
        "outputId": "ba051c7d-4bb8-45a0-de0e-1badf2307812"
      },
      "outputs": [],
      "source": [
        "obj.drop('c', inplace=True)\n",
        "obj"
      ]
    },
    {
      "cell_type": "markdown",
      "metadata": {
        "id": "lAFnHr96I12C"
      },
      "source": [
        "#### 선택, 필터링"
      ]
    },
    {
      "cell_type": "code",
      "execution_count": null,
      "metadata": {
        "colab": {
          "base_uri": "https://localhost:8080/"
        },
        "id": "VoazJYAdI12C",
        "outputId": "674acd4d-866e-44e2-bd0e-42517c50fa13"
      },
      "outputs": [],
      "source": [
        "obj = pd.Series(np.arange(4.), index=['a', 'c', 'b', 'd'])\n",
        "obj"
      ]
    },
    {
      "cell_type": "code",
      "execution_count": null,
      "metadata": {
        "colab": {
          "base_uri": "https://localhost:8080/"
        },
        "id": "5lOsJF2oI12C",
        "outputId": "e5754462-e491-4fdc-ec40-56ae2868cc44"
      },
      "outputs": [],
      "source": [
        "# index를 기준으로 정렬한다. \n",
        "obj['a':'b']"
      ]
    },
    {
      "cell_type": "code",
      "execution_count": null,
      "metadata": {
        "colab": {
          "base_uri": "https://localhost:8080/"
        },
        "id": "NCeCC3OTI12C",
        "outputId": "1d51e7c3-063c-40aa-984b-353d877b87d7"
      },
      "outputs": [],
      "source": [
        "obj['a':'d'] = 5 \n",
        "obj\n",
        "# obj = pd.Series(np.arange(4.), index=['a', 'c', 'b', 'd'])"
      ]
    },
    {
      "cell_type": "code",
      "execution_count": null,
      "metadata": {
        "colab": {
          "base_uri": "https://localhost:8080/",
          "height": 175
        },
        "id": "7rAwd0r0I12C",
        "outputId": "d3e72386-c713-4e4e-e187-a579d8854dd7"
      },
      "outputs": [],
      "source": [
        "data = pd.DataFrame(np.arange(16).reshape((4, 4)),\n",
        "                    index=['Ohio', 'Colorado', 'Utah', 'New York'],\n",
        "                    columns=['one', 'two', 'three', 'four'])\n",
        "data"
      ]
    },
    {
      "cell_type": "code",
      "execution_count": null,
      "metadata": {
        "colab": {
          "base_uri": "https://localhost:8080/",
          "height": 596
        },
        "id": "rwhpbsIqI12C",
        "outputId": "48f5f3a0-d2a6-4b2f-e316-28f06ee7c23b"
      },
      "outputs": [],
      "source": [
        "# column을 기준으로 선택할 때 리스트로 전달해줌 주의. (index는 겹괄호를 안해줬다. 데이터프레임이라 이렇다.)\n",
        "data[['two', 'one']]"
      ]
    },
    {
      "cell_type": "code",
      "execution_count": null,
      "metadata": {
        "colab": {
          "base_uri": "https://localhost:8080/",
          "height": 112
        },
        "id": "w4nNSIC_I12D",
        "outputId": "4c443db6-1a40-46ae-c349-0a39d501b3fd"
      },
      "outputs": [],
      "source": [
        "# row 기준으로 하는 조건 선택\n",
        "data[data['two'] > 5]"
      ]
    },
    {
      "cell_type": "code",
      "execution_count": null,
      "metadata": {
        "colab": {
          "base_uri": "https://localhost:8080/",
          "height": 175
        },
        "id": "NusUrwxUI12D",
        "outputId": "a72095fc-5ce4-4a9e-f73a-1c0d15b5446d"
      },
      "outputs": [],
      "source": [
        "data < 5"
      ]
    },
    {
      "cell_type": "markdown",
      "metadata": {
        "id": "UgBhxPoHI12D"
      },
      "source": [
        "#### 산술 연산과 데이터 정렬"
      ]
    },
    {
      "cell_type": "code",
      "execution_count": null,
      "metadata": {
        "colab": {
          "base_uri": "https://localhost:8080/"
        },
        "id": "rmVjfT9ZI12D",
        "outputId": "426854c8-4159-4181-b430-ebb327ee8680"
      },
      "outputs": [],
      "source": [
        "s1 = pd.Series([7.3, -2.5, 3.4, 1.5], index=['a', 'c', 'd', 'e'])\n",
        "s2 = pd.Series([-2.1, 3.6, -1.5, 4, 3.1],\n",
        "               index=['a', 'c', 'e', 'f', 'g'])\n",
        "print(s1)\n",
        "print(s2)"
      ]
    },
    {
      "cell_type": "code",
      "execution_count": null,
      "metadata": {
        "colab": {
          "base_uri": "https://localhost:8080/"
        },
        "id": "TCa9y_7OI12D",
        "outputId": "a9745133-47da-4b27-a475-903064d7c13e"
      },
      "outputs": [],
      "source": [
        "# index가 같은 것끼리 연산을 수행한다. \n",
        "s1 + s2"
      ]
    },
    {
      "cell_type": "code",
      "execution_count": null,
      "metadata": {
        "colab": {
          "base_uri": "https://localhost:8080/"
        },
        "id": "Nc0ROMM3I12D",
        "outputId": "08d97d81-08b6-4852-8ec5-2278fa1a203c"
      },
      "outputs": [],
      "source": [
        "df1 = pd.DataFrame(np.arange(9.).reshape((3, 3)), columns=list('bcd'),\n",
        "                   index=['Ohio', 'Texas', 'Colorado'])\n",
        "df2 = pd.DataFrame(np.arange(12.).reshape((4, 3)), columns=list('bde'),\n",
        "                   index=['Utah', 'Ohio', 'Texas', 'Oregon'])\n",
        "print(df1)\n",
        "print(df2)"
      ]
    },
    {
      "cell_type": "code",
      "execution_count": null,
      "metadata": {
        "colab": {
          "base_uri": "https://localhost:8080/",
          "height": 206
        },
        "id": "tE6K7EDXI12E",
        "outputId": "833c0978-91ab-467d-a5ae-965a04b12ab3"
      },
      "outputs": [],
      "source": [
        "df1 + df2 # 1. index를 맞춰서 연산을 진행했다. 2. 정렬은 알파벳 순으로 다시 했다."
      ]
    },
    {
      "cell_type": "markdown",
      "metadata": {
        "id": "Apw6FGctI12E"
      },
      "source": [
        "#### Apply, Map"
      ]
    },
    {
      "cell_type": "code",
      "execution_count": null,
      "metadata": {
        "colab": {
          "base_uri": "https://localhost:8080/",
          "height": 175
        },
        "id": "rqi6UlPxI12E",
        "outputId": "586fcac3-7257-4141-af0d-981f3f941c1b"
      },
      "outputs": [],
      "source": [
        "frame = pd.DataFrame(np.random.randn(4, 3), columns=list('bde'),\n",
        "                     index=['Utah', 'Ohio', 'Texas', 'Oregon'])\n",
        "frame"
      ]
    },
    {
      "cell_type": "code",
      "execution_count": null,
      "metadata": {
        "colab": {
          "base_uri": "https://localhost:8080/"
        },
        "id": "--bIqJZlI12E",
        "outputId": "9d2fd683-674f-4b53-9015-2f7c52ecc2b7"
      },
      "outputs": [],
      "source": [
        "# 드디어 나왔다. apply. \n",
        "# axis를 지정해주지 않으면 index를 기준으로 판단한다. \n",
        "# column이 같으면서 index가 다른 것들의 max, min 값. 즉, 열방향\n",
        "frame.apply(lambda x: x.max() - x.min())"
      ]
    },
    {
      "cell_type": "code",
      "execution_count": null,
      "metadata": {
        "colab": {
          "base_uri": "https://localhost:8080/"
        },
        "id": "9LX0lGOpI12E",
        "outputId": "4b0f523f-440d-4480-b3f6-2b7677b5afde"
      },
      "outputs": [],
      "source": [
        "# index가 같으면서 column이 다른 것들의 max, min 값. 즉, 행방향\n",
        "def f(x):\n",
        "    return x.max() - x.min()\n",
        "frame.apply(f, axis='columns')"
      ]
    },
    {
      "cell_type": "code",
      "execution_count": null,
      "metadata": {
        "colab": {
          "base_uri": "https://localhost:8080/",
          "height": 112
        },
        "id": "5JzbUgaKI12E",
        "outputId": "ff95df5a-758b-4dbd-ecd2-69118dbce880"
      },
      "outputs": [],
      "source": [
        "def f(x):\n",
        "    return pd.Series([x.min(), x.max()], index=['min', 'max'])\n",
        "frame.apply(f)"
      ]
    },
    {
      "cell_type": "markdown",
      "metadata": {
        "id": "Sj8dIJaCI12E"
      },
      "source": [
        "#### 정렬과 랭킹 매기기"
      ]
    },
    {
      "cell_type": "code",
      "execution_count": null,
      "metadata": {
        "colab": {
          "base_uri": "https://localhost:8080/"
        },
        "id": "cILc7SXWI12F",
        "outputId": "dce3c4ac-10f3-4a42-d0d3-e040b9aa1ee7"
      },
      "outputs": [],
      "source": [
        "obj = pd.Series(range(4), index=['d', 'a', 'b', 'c'])\n",
        "obj.sort_index()"
      ]
    },
    {
      "cell_type": "code",
      "execution_count": null,
      "metadata": {
        "colab": {
          "base_uri": "https://localhost:8080/",
          "height": 112
        },
        "id": "I8b6Sdo0I12F",
        "outputId": "16b282d9-41d4-46cb-bb68-e42f2839f26b"
      },
      "outputs": [],
      "source": [
        "frame = pd.DataFrame(np.arange(8).reshape((2, 4)),\n",
        "                     index=['three', 'one'],\n",
        "                     columns=['d', 'a', 'b', 'c'])\n",
        "frame.sort_index()\n",
        "frame.sort_index(axis=1)"
      ]
    },
    {
      "cell_type": "code",
      "execution_count": null,
      "metadata": {
        "colab": {
          "base_uri": "https://localhost:8080/",
          "height": 112
        },
        "id": "4WKq7_6SI12F",
        "outputId": "e975ee78-4442-4d88-ae23-eeffc05bb2b3"
      },
      "outputs": [],
      "source": [
        "frame.sort_index(axis=1, ascending=False)"
      ]
    },
    {
      "cell_type": "code",
      "execution_count": null,
      "metadata": {
        "colab": {
          "base_uri": "https://localhost:8080/",
          "height": 175
        },
        "id": "J7PWxo4MI12F",
        "outputId": "7c2d74ac-953f-4ac1-e085-f53dac220ffb"
      },
      "outputs": [],
      "source": [
        "frame = pd.DataFrame({'b': [4, 7, -3, 2], 'a': [0, 1, 0, 1]})\n",
        "frame\n"
      ]
    },
    {
      "cell_type": "code",
      "execution_count": null,
      "metadata": {
        "colab": {
          "base_uri": "https://localhost:8080/",
          "height": 175
        },
        "id": "ND7mC6qKI12F",
        "outputId": "4ec96dfe-4540-4b6a-9ef2-258f3fd6005c"
      },
      "outputs": [],
      "source": [
        "# 2개도 된다.\n",
        "frame.sort_values(by=['a', 'b'])"
      ]
    },
    {
      "cell_type": "markdown",
      "metadata": {
        "id": "mfdUzKhQI12F"
      },
      "source": [
        "#### 유니크, 빈도 세기"
      ]
    },
    {
      "cell_type": "code",
      "execution_count": null,
      "metadata": {
        "id": "CMU_AIG4I12F"
      },
      "outputs": [],
      "source": [
        "obj = pd.Series(['c', 'a', 'd', 'a', 'a', 'b', 'b', 'c', 'c'])"
      ]
    },
    {
      "cell_type": "code",
      "execution_count": null,
      "metadata": {
        "colab": {
          "base_uri": "https://localhost:8080/"
        },
        "id": "c6cuu_AYI12F",
        "outputId": "3c6201ee-075c-494a-b6db-a48b066bbcd9"
      },
      "outputs": [],
      "source": [
        "uniques = obj.unique()\n",
        "uniques"
      ]
    },
    {
      "cell_type": "code",
      "execution_count": null,
      "metadata": {
        "colab": {
          "base_uri": "https://localhost:8080/"
        },
        "id": "O0foWYeKI12F",
        "outputId": "4e87355b-6198-49dd-b7be-e9d1a2b2c82a"
      },
      "outputs": [],
      "source": [
        "obj.value_counts()"
      ]
    },
    {
      "cell_type": "code",
      "execution_count": null,
      "metadata": {
        "colab": {
          "base_uri": "https://localhost:8080/"
        },
        "id": "ywVVaIdOI12F",
        "outputId": "a346bad0-a34a-4551-f232-3a6b3d32b988"
      },
      "outputs": [],
      "source": [
        "pd.value_counts(obj.values, sort=False)"
      ]
    }
  ],
  "metadata": {
    "colab": {
      "provenance": []
    },
    "kernelspec": {
      "display_name": "Python 3 (ipykernel)",
      "language": "python",
      "name": "python3"
    },
    "language_info": {
      "codemirror_mode": {
        "name": "ipython",
        "version": 3
      },
      "file_extension": ".py",
      "mimetype": "text/x-python",
      "name": "python",
      "nbconvert_exporter": "python",
      "pygments_lexer": "ipython3",
      "version": "3.11.4"
    }
  },
  "nbformat": 4,
  "nbformat_minor": 0
}
